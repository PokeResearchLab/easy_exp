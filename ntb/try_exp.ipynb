{
 "cells": [
  {
   "attachments": {},
   "cell_type": "markdown",
   "metadata": {},
   "source": [
    "# Test Easy Exp"
   ]
  },
  {
   "cell_type": "code",
   "execution_count": 1,
   "metadata": {},
   "outputs": [],
   "source": [
    "import sys\n",
    "from copy import deepcopy"
   ]
  },
  {
   "cell_type": "code",
   "execution_count": 2,
   "metadata": {},
   "outputs": [
    {
     "name": "stdout",
     "output_type": "stream",
     "text": [
      "['../', '/Users/federicosiciliano/Desktop/Py_utils/easy_lightning_development/easy_exp/ntb', '/opt/homebrew/Cellar/python@3.11/3.11.5/Frameworks/Python.framework/Versions/3.11/lib/python311.zip', '/opt/homebrew/Cellar/python@3.11/3.11.5/Frameworks/Python.framework/Versions/3.11/lib/python3.11', '/opt/homebrew/Cellar/python@3.11/3.11.5/Frameworks/Python.framework/Versions/3.11/lib/python3.11/lib-dynload', '', '/Users/federicosiciliano/Library/Python/3.11/lib/python/site-packages', '/opt/homebrew/lib/python3.11/site-packages', '/opt/homebrew/lib/python3.11/site-packages/Easy_Lightning-0.0.1-py3.11.egg']\n"
     ]
    }
   ],
   "source": [
    "project_folder = \"../\"\n",
    "sys.path.insert(0, project_folder)\n",
    "print(sys.path) # view the path and verify"
   ]
  },
  {
   "cell_type": "code",
   "execution_count": 3,
   "metadata": {},
   "outputs": [],
   "source": [
    "import easy_exp"
   ]
  },
  {
   "attachments": {},
   "cell_type": "markdown",
   "metadata": {},
   "source": [
    "## Configuration loading"
   ]
  },
  {
   "cell_type": "code",
   "execution_count": 4,
   "metadata": {},
   "outputs": [],
   "source": [
    "cfg = easy_exp.cfg.load_configuration()"
   ]
  },
  {
   "cell_type": "code",
   "execution_count": 5,
   "metadata": {},
   "outputs": [
    {
     "data": {
      "text/plain": [
       "easy_exp.cfg.ConfigObject"
      ]
     },
     "execution_count": 5,
     "metadata": {},
     "output_type": "execute_result"
    }
   ],
   "source": [
    "type(cfg)"
   ]
  },
  {
   "cell_type": "code",
   "execution_count": 6,
   "metadata": {},
   "outputs": [
    {
     "data": {
      "text/plain": [
       "(dict, dict)"
      ]
     },
     "execution_count": 6,
     "metadata": {},
     "output_type": "execute_result"
    }
   ],
   "source": [
    "type(cfg[\"app1\"]), type(cfg[\"__exp__\"])"
   ]
  },
  {
   "cell_type": "code",
   "execution_count": 7,
   "metadata": {},
   "outputs": [
    {
     "data": {
      "text/plain": [
       "{'name': 'prova',\n",
       " 'project_folder': '../',\n",
       " 'key_len': 16,\n",
       " 'key_prefix': '',\n",
       " '__imports__': ['numpy as np',\n",
       "  {'name': 'pandas', 'fromlist': ['DataFrame']},\n",
       "  'multiprocessing'],\n",
       " '__wandb__': {'entity': 'sapienza_am', 'project': 'rec-posneg'},\n",
       " '__nosave__': {'app2.foo_str': None,\n",
       "  'app2.foo_int2': None,\n",
       "  'app2.app3.foo_int1': None,\n",
       "  'app1.app_glob1_2': None},\n",
       " '__sweep__': {'parameters': {'app1.foo_sweep1': {'default': 3,\n",
       "    'values': [1, 2, 3, 4, 5]},\n",
       "   'app1.foo_sweep2': {'default': 3, 'min': 1, 'max': 5},\n",
       "   'app1.app1_2.foo_sweep1_2': {'default': 1.2345,\n",
       "    'min': 0.1234,\n",
       "    'max': 5.6789},\n",
       "   'app2.foo_sweep': {'default': 'hey', 'values': ['hi', 'hey', 'hello']}},\n",
       "  'method': 'random'}}"
      ]
     },
     "execution_count": 7,
     "metadata": {},
     "output_type": "execute_result"
    }
   ],
   "source": [
    "cfg[\"__exp__\"]"
   ]
  },
  {
   "cell_type": "code",
   "execution_count": 8,
   "metadata": {},
   "outputs": [
    {
     "data": {
      "text/plain": [
       "array([1, 2, 3])"
      ]
     },
     "execution_count": 8,
     "metadata": {},
     "output_type": "execute_result"
    }
   ],
   "source": [
    "cfg[\"app1\"][\"foo_parse2\"]"
   ]
  },
  {
   "cell_type": "code",
   "execution_count": 9,
   "metadata": {},
   "outputs": [
    {
     "data": {
      "text/plain": [
       "array([1, 2, 3])"
      ]
     },
     "execution_count": 9,
     "metadata": {},
     "output_type": "execute_result"
    }
   ],
   "source": [
    "cfg[\"app1.foo_parse2\"]"
   ]
  },
  {
   "cell_type": "code",
   "execution_count": 10,
   "metadata": {},
   "outputs": [],
   "source": [
    "cfg[\"app3.foo_str\"] = \"abc\""
   ]
  },
  {
   "cell_type": "code",
   "execution_count": 11,
   "metadata": {},
   "outputs": [
    {
     "data": {
      "text/plain": [
       "('abc', 'abc')"
      ]
     },
     "execution_count": 11,
     "metadata": {},
     "output_type": "execute_result"
    }
   ],
   "source": [
    "cfg[\"app3.foo_str\"],cfg[\"app3\"][\"foo_str\"]"
   ]
  },
  {
   "cell_type": "code",
   "execution_count": 12,
   "metadata": {},
   "outputs": [
    {
     "data": {
      "text/plain": [
       "3"
      ]
     },
     "execution_count": 12,
     "metadata": {},
     "output_type": "execute_result"
    }
   ],
   "source": [
    "cfg[\"app1.foo_sweep1\"]"
   ]
  },
  {
   "cell_type": "code",
   "execution_count": 13,
   "metadata": {},
   "outputs": [
    {
     "data": {
      "text/plain": [
       "{'parameters': {'app1.foo_sweep1': {'default': 3, 'values': [1, 2, 3, 4, 5]},\n",
       "  'app1.foo_sweep2': {'default': 3, 'min': 1, 'max': 5},\n",
       "  'app1.app1_2.foo_sweep1_2': {'default': 1.2345,\n",
       "   'min': 0.1234,\n",
       "   'max': 5.6789},\n",
       "  'app2.foo_sweep': {'default': 'hey', 'values': ['hi', 'hey', 'hello']}},\n",
       " 'method': 'random'}"
      ]
     },
     "execution_count": 13,
     "metadata": {},
     "output_type": "execute_result"
    }
   ],
   "source": [
    "cfg[\"__exp__\"][\"__sweep__\"]"
   ]
  },
  {
   "attachments": {},
   "cell_type": "markdown",
   "metadata": {},
   "source": [
    "## Experiment"
   ]
  },
  {
   "cell_type": "code",
   "execution_count": 14,
   "metadata": {},
   "outputs": [],
   "source": [
    "cfg, exp_cfg = easy_exp.exp.separate_exp_cfg(cfg) # Drop __exp__ key cause it doesn't define an experiment's parameters"
   ]
  },
  {
   "attachments": {},
   "cell_type": "markdown",
   "metadata": {},
   "source": [
    "### Experiment ids"
   ]
  },
  {
   "cell_type": "code",
   "execution_count": 15,
   "metadata": {},
   "outputs": [
    {
     "name": "stdout",
     "output_type": "stream",
     "text": [
      "GydPrQ1RZvl75Jqj\n",
      "B-84oAMrDZDDLMgtl0\n",
      "eFADLyIV\n",
      "FSkg6C\n"
     ]
    }
   ],
   "source": [
    "print(easy_exp.exp.generate_random_id())\n",
    "print(easy_exp.exp.generate_random_id(key_prefix=\"B-\"))\n",
    "print(easy_exp.exp.generate_random_id(key_len=8))\n",
    "print(easy_exp.exp.generate_random_id(key_len=4,key_prefix=\"FS\"))"
   ]
  },
  {
   "cell_type": "code",
   "execution_count": 16,
   "metadata": {},
   "outputs": [
    {
     "name": "stdout",
     "output_type": "stream",
     "text": [
      "Default number of possible keys: 10 ^ 28.678267031972062\n"
     ]
    }
   ],
   "source": [
    "import string\n",
    "import numpy as np\n",
    "poss_chars = len(string.ascii_letters + string.digits) #62\n",
    "default_k = 16\n",
    "default_poss_keys = poss_chars ** default_k\n",
    "print(\"Default number of possible keys: 10\",\"^\",np.log10(float(default_poss_keys)))"
   ]
  },
  {
   "attachments": {},
   "cell_type": "markdown",
   "metadata": {},
   "source": [
    "### Hashing"
   ]
  },
  {
   "cell_type": "code",
   "execution_count": 17,
   "metadata": {},
   "outputs": [],
   "source": [
    "#The only solution, is save each numpy array / pandas DF / else in the configuration as their own experiment, having a certain experiment ID\n",
    "numpy_key = \"app1.foo_parse2\"\n",
    "np_to_save_elsewhere = cfg[numpy_key]\n",
    "np_exp_id = 123 #easy_exp.exp.generate_random_id() #get numpy object experiment ID somehow\n",
    "cfg[numpy_key] = np_exp_id #now cfg doesn't have the numpy array anymore\n",
    "\n",
    "pandas_key = \"app1.foo_parse3\"\n",
    "pd_to_save_elsewhere = cfg[pandas_key]\n",
    "pd_exp_id = 42 #easy_exp.exp.generate_random_id() #get pandas object experiment ID somehow\n",
    "cfg[pandas_key] = pd_exp_id #now cfg doesn't have the pandas DF anymore"
   ]
  },
  {
   "cell_type": "code",
   "execution_count": 18,
   "metadata": {},
   "outputs": [
    {
     "data": {
      "text/plain": [
       "'abfcbc5c82be445908076920c10efe0b'"
      ]
     },
     "execution_count": 18,
     "metadata": {},
     "output_type": "execute_result"
    }
   ],
   "source": [
    "easy_exp.exp.hash_config(cfg)"
   ]
  },
  {
   "cell_type": "code",
   "execution_count": 19,
   "metadata": {},
   "outputs": [
    {
     "data": {
      "text/plain": [
       "{'app1': {'foo_str': 'string_value',\n",
       "  'foo_int': 123,\n",
       "  'foo_float': 1.23,\n",
       "  'foo_none': None,\n",
       "  'foo_list1': [123, '456', 789.0],\n",
       "  'foo_list2': [123, '456'],\n",
       "  'foo_ref1': 'string_value',\n",
       "  'foo_ref2': 'string_value',\n",
       "  'foo_parse1': ['a', 'b', 'c'],\n",
       "  'foo_parse2': 123,\n",
       "  'foo_parse3': 42,\n",
       "  'foo_parse4': 8,\n",
       "  'app1_2': {'foo_str1_2': 'app2_foo', 'foo_sweep1_2': 1.2345},\n",
       "  'foo_sweep1': 3,\n",
       "  'foo_sweep2': 3,\n",
       "  'app_glob': 'glob',\n",
       "  'app_glob2': 'glob2',\n",
       "  'app_glob1_2': 'glob1_2'},\n",
       " 'app2': {'app3': {'foo_int1': 123},\n",
       "  'foo_str': 'app2_foo',\n",
       "  'foo_int2': 123,\n",
       "  'foo_sweep': 'hey'},\n",
       " 'app3': {'foo_str': 'abc'}}"
      ]
     },
     "execution_count": 19,
     "metadata": {},
     "output_type": "execute_result"
    }
   ],
   "source": [
    "cfg"
   ]
  },
  {
   "cell_type": "code",
   "execution_count": 20,
   "metadata": {},
   "outputs": [
    {
     "data": {
      "text/plain": [
       "(True, 'IkyxAfP8V6OscFhp')"
      ]
     },
     "execution_count": 20,
     "metadata": {},
     "output_type": "execute_result"
    }
   ],
   "source": [
    "#cfg, exp_cfg = easy_exp.exp.separate_exp_cfg(cfg) # Drop __exp__ key cause it doesn't define an experiment's parameters\n",
    "easy_exp.exp.get_experiment_id(cfg, exp_cfg)"
   ]
  },
  {
   "cell_type": "code",
   "execution_count": 21,
   "metadata": {},
   "outputs": [
    {
     "data": {
      "text/plain": [
       "{'app3': {'foo_int1': 123},\n",
       " 'foo_str': 'app2_foo',\n",
       " 'foo_int2': 123,\n",
       " 'foo_sweep': 'hey'}"
      ]
     },
     "execution_count": 21,
     "metadata": {},
     "output_type": "execute_result"
    }
   ],
   "source": [
    "cfg[\"app2\"]"
   ]
  },
  {
   "attachments": {},
   "cell_type": "markdown",
   "metadata": {},
   "source": [
    "### Save experiments"
   ]
  },
  {
   "cell_type": "code",
   "execution_count": 22,
   "metadata": {},
   "outputs": [],
   "source": [
    "cfg = easy_exp.exp.combine_exp_cfg(cfg, exp_cfg)"
   ]
  },
  {
   "cell_type": "code",
   "execution_count": 23,
   "metadata": {},
   "outputs": [
    {
     "data": {
      "text/plain": [
       "{'name': 'prova',\n",
       " 'project_folder': '../',\n",
       " 'key_len': 16,\n",
       " 'key_prefix': '',\n",
       " '__imports__': ['numpy as np',\n",
       "  {'name': 'pandas', 'fromlist': ['DataFrame']},\n",
       "  'multiprocessing'],\n",
       " '__wandb__': {'entity': 'sapienza_am', 'project': 'rec-posneg'},\n",
       " '__nosave__': {'app2.foo_str': None,\n",
       "  'app2.foo_int2': None,\n",
       "  'app2.app3.foo_int1': None,\n",
       "  'app1.app_glob1_2': None},\n",
       " '__sweep__': {'parameters': {'app1.foo_sweep1': {'default': 3,\n",
       "    'values': [1, 2, 3, 4, 5]},\n",
       "   'app1.foo_sweep2': {'default': 3, 'min': 1, 'max': 5},\n",
       "   'app1.app1_2.foo_sweep1_2': {'default': 1.2345,\n",
       "    'min': 0.1234,\n",
       "    'max': 5.6789},\n",
       "   'app2.foo_sweep': {'default': 'hey', 'values': ['hi', 'hey', 'hello']}},\n",
       "  'method': 'random'},\n",
       " 'hash': '8cd8930cbe56ee0517140ee265444fbd'}"
      ]
     },
     "execution_count": 23,
     "metadata": {},
     "output_type": "execute_result"
    }
   ],
   "source": [
    "cfg[\"__exp__\"]"
   ]
  },
  {
   "cell_type": "code",
   "execution_count": 24,
   "metadata": {},
   "outputs": [],
   "source": [
    "easy_exp.exp.save_experiment(cfg)\n",
    "# Save experiment can be called directly; it will set the experiment id directly"
   ]
  },
  {
   "cell_type": "code",
   "execution_count": 25,
   "metadata": {},
   "outputs": [
    {
     "data": {
      "text/plain": [
       "((True, 'IkyxAfP8V6OscFhp'), (True, 'IkyxAfP8V6OscFhp'))"
      ]
     },
     "execution_count": 25,
     "metadata": {},
     "output_type": "execute_result"
    }
   ],
   "source": [
    "easy_exp.exp.get_experiment_id(cfg), easy_exp.exp.get_experiment_id(cfg)\n",
    "# If the cfg exists, we get\n",
    "# exp_found True\n",
    "# Always the same experiment_id"
   ]
  },
  {
   "cell_type": "code",
   "execution_count": 26,
   "metadata": {},
   "outputs": [],
   "source": [
    "cfg, exp_cfg = easy_exp.exp.separate_exp_cfg(cfg) # Drop __exp__ key cause it doesn't define an experiment's parameters"
   ]
  },
  {
   "cell_type": "code",
   "execution_count": 27,
   "metadata": {},
   "outputs": [
    {
     "data": {
      "text/plain": [
       "((True, 'IkyxAfP8V6OscFhp'), (True, 'IkyxAfP8V6OscFhp'))"
      ]
     },
     "execution_count": 27,
     "metadata": {},
     "output_type": "execute_result"
    }
   ],
   "source": [
    "easy_exp.exp.get_experiment_id(cfg,exp_cfg), easy_exp.exp.get_experiment_id(cfg,exp_cfg) # Even if the cfg is divided, the result is the same"
   ]
  },
  {
   "cell_type": "code",
   "execution_count": 28,
   "metadata": {},
   "outputs": [],
   "source": [
    "cfg[\"app5\"] = 5"
   ]
  },
  {
   "cell_type": "code",
   "execution_count": 29,
   "metadata": {},
   "outputs": [
    {
     "data": {
      "text/plain": [
       "((True, 'WSaay94qYt3zWjyd'), (True, 'WSaay94qYt3zWjyd'))"
      ]
     },
     "execution_count": 29,
     "metadata": {},
     "output_type": "execute_result"
    }
   ],
   "source": [
    "easy_exp.exp.get_experiment_id(cfg,exp_cfg), easy_exp.exp.get_experiment_id(cfg,exp_cfg) # If the cfg doesn't exist, we get a different experiment_id. Also, exp_found is False"
   ]
  },
  {
   "cell_type": "code",
   "execution_count": 30,
   "metadata": {},
   "outputs": [
    {
     "data": {
      "text/plain": [
       "(True, 'WSaay94qYt3zWjyd')"
      ]
     },
     "execution_count": 30,
     "metadata": {},
     "output_type": "execute_result"
    }
   ],
   "source": [
    "easy_exp.exp.get_set_experiment_id(cfg,exp_cfg)"
   ]
  },
  {
   "cell_type": "code",
   "execution_count": 31,
   "metadata": {},
   "outputs": [
    {
     "data": {
      "text/plain": [
       "'WSaay94qYt3zWjyd'"
      ]
     },
     "execution_count": 31,
     "metadata": {},
     "output_type": "execute_result"
    }
   ],
   "source": [
    "exp_cfg[\"experiment_id\"] # Now the experiment_id is saved inside exp_cfg"
   ]
  },
  {
   "cell_type": "code",
   "execution_count": 32,
   "metadata": {},
   "outputs": [
    {
     "data": {
      "text/plain": [
       "((True, 'WSaay94qYt3zWjyd'), 'WSaay94qYt3zWjyd')"
      ]
     },
     "execution_count": 32,
     "metadata": {},
     "output_type": "execute_result"
    }
   ],
   "source": [
    "easy_exp.exp.get_experiment_id(cfg,exp_cfg), exp_cfg[\"experiment_id\"]\n",
    "# get_experiment_id is meant to search for the experiment in the file,\n",
    "# so, if it doesn't find the cfg in the saved configurations,\n",
    "# It will not set the exp_id inside exp_cfg"
   ]
  },
  {
   "cell_type": "code",
   "execution_count": 33,
   "metadata": {},
   "outputs": [
    {
     "data": {
      "text/plain": [
       "((True, 'WSaay94qYt3zWjyd'), 'WSaay94qYt3zWjyd')"
      ]
     },
     "execution_count": 33,
     "metadata": {},
     "output_type": "execute_result"
    }
   ],
   "source": [
    "easy_exp.exp.get_set_experiment_id(cfg,exp_cfg), exp_cfg[\"experiment_id\"]\n",
    "# In the same way, get_set_experiment_id is meant to search for the experiment in the file,\n",
    "# so, if it doesn't find the cfg in the saved configurations,\n",
    "# it will not return the exp_id inside exp_cfg\n",
    "# and will overwrite it"
   ]
  },
  {
   "cell_type": "code",
   "execution_count": 34,
   "metadata": {},
   "outputs": [],
   "source": [
    "prev_cfg = deepcopy(cfg)"
   ]
  },
  {
   "cell_type": "code",
   "execution_count": 35,
   "metadata": {},
   "outputs": [],
   "source": [
    "easy_exp.exp.save_experiment(cfg,exp_cfg)"
   ]
  },
  {
   "cell_type": "code",
   "execution_count": 36,
   "metadata": {},
   "outputs": [
    {
     "data": {
      "text/plain": [
       "True"
      ]
     },
     "execution_count": 36,
     "metadata": {},
     "output_type": "execute_result"
    }
   ],
   "source": [
    "prev_cfg == cfg # Check if cfg has been restored"
   ]
  },
  {
   "cell_type": "code",
   "execution_count": 37,
   "metadata": {},
   "outputs": [
    {
     "data": {
      "text/plain": [
       "((True, 'WSaay94qYt3zWjyd'),\n",
       " 'WSaay94qYt3zWjyd',\n",
       " (True, 'WSaay94qYt3zWjyd'),\n",
       " 'WSaay94qYt3zWjyd')"
      ]
     },
     "execution_count": 37,
     "metadata": {},
     "output_type": "execute_result"
    }
   ],
   "source": [
    "# Now that the experiment is saved, we will always get the same experiment_id\n",
    "easy_exp.exp.get_experiment_id(cfg,exp_cfg), exp_cfg[\"experiment_id\"], easy_exp.exp.get_set_experiment_id(cfg,exp_cfg), exp_cfg[\"experiment_id\"]"
   ]
  },
  {
   "cell_type": "code",
   "execution_count": 38,
   "metadata": {},
   "outputs": [
    {
     "data": {
      "text/plain": [
       "((False, 'ngmXbLDScgIvllfc'),\n",
       " 'WSaay94qYt3zWjyd',\n",
       " (False, '7L8nzrEguJz9Yqiu'),\n",
       " '7L8nzrEguJz9Yqiu')"
      ]
     },
     "execution_count": 38,
     "metadata": {},
     "output_type": "execute_result"
    }
   ],
   "source": [
    "# If we modify cfg so that is new, we get the same results as before\n",
    "cfg[\"new_key\"] = \"kmasdkasm\"\n",
    "cfg[\"new_key2\"] = {\"abc\":123}\n",
    "easy_exp.exp.get_experiment_id(cfg,exp_cfg), exp_cfg[\"experiment_id\"], easy_exp.exp.get_set_experiment_id(cfg,exp_cfg), exp_cfg[\"experiment_id\"]"
   ]
  },
  {
   "cell_type": "code",
   "execution_count": 39,
   "metadata": {},
   "outputs": [],
   "source": [
    "easy_exp.exp.save_experiment(cfg,exp_cfg)"
   ]
  },
  {
   "cell_type": "code",
   "execution_count": 40,
   "metadata": {},
   "outputs": [
    {
     "data": {
      "text/plain": [
       "{'app2.foo_str': None,\n",
       " 'app2.foo_int2': None,\n",
       " 'app2.app3.foo_int1': None,\n",
       " 'app1.app_glob1_2': None}"
      ]
     },
     "execution_count": 40,
     "metadata": {},
     "output_type": "execute_result"
    }
   ],
   "source": [
    "exp_cfg[\"__nosave__\"] # Check nosave keys"
   ]
  },
  {
   "cell_type": "code",
   "execution_count": 41,
   "metadata": {},
   "outputs": [],
   "source": [
    "cfg[\"app2.foo_str\"] = \"modified\" # Modify a nosave key"
   ]
  },
  {
   "cell_type": "code",
   "execution_count": 42,
   "metadata": {},
   "outputs": [
    {
     "data": {
      "text/plain": [
       "((True, '7L8nzrEguJz9Yqiu'),\n",
       " '7L8nzrEguJz9Yqiu',\n",
       " (True, '7L8nzrEguJz9Yqiu'),\n",
       " '7L8nzrEguJz9Yqiu')"
      ]
     },
     "execution_count": 42,
     "metadata": {},
     "output_type": "execute_result"
    }
   ],
   "source": [
    "# If a nosave key is modified, the cfg will still match a saved one\n",
    "easy_exp.exp.get_experiment_id(cfg,exp_cfg), exp_cfg[\"experiment_id\"], easy_exp.exp.get_set_experiment_id(cfg,exp_cfg), exp_cfg[\"experiment_id\"]"
   ]
  },
  {
   "attachments": {},
   "cell_type": "markdown",
   "metadata": {},
   "source": [
    "### Load experiments"
   ]
  },
  {
   "cell_type": "code",
   "execution_count": 43,
   "metadata": {},
   "outputs": [
    {
     "data": {
      "text/plain": [
       "{'YJxs8YGQWr5XFb11': {'app1': {'app1_2': {'foo_str1_2': 'app2_foo',\n",
       "    'foo_sweep1_2': 1.2345},\n",
       "   'app_glob': 'glob',\n",
       "   'app_glob1_2': 'glob1_2',\n",
       "   'app_glob2': 'glob2',\n",
       "   'foo_float': 1.23,\n",
       "   'foo_int': 123,\n",
       "   'foo_list1': [123, '456', 789.0],\n",
       "   'foo_list2': [123, '456'],\n",
       "   'foo_none': None,\n",
       "   'foo_parse1': ['a', 'b', 'c'],\n",
       "   'foo_parse2': 123,\n",
       "   'foo_parse3': 42,\n",
       "   'foo_parse4': 8,\n",
       "   'foo_ref1': 'string_value',\n",
       "   'foo_ref2': 'string_value',\n",
       "   'foo_str': 'string_value',\n",
       "   'foo_sweep1': 3,\n",
       "   'foo_sweep2': 3},\n",
       "  'app2': {'app3': {'foo_int1': 123},\n",
       "   'foo_int2': 123,\n",
       "   'foo_parse': 'hey',\n",
       "   'foo_str': 'app2_foo'},\n",
       "  'app3': {'foo_str': 'abc'}},\n",
       " 'Pneg0BfgiVJqd698': {'app1': {'app1_2': {'foo_str1_2': 'app2_foo'},\n",
       "   'app_glob': 'glob',\n",
       "   'app_glob1_2': 'glob1_2',\n",
       "   'app_glob2': 'glob2',\n",
       "   'foo_float': 1.23,\n",
       "   'foo_int': 123,\n",
       "   'foo_list1': [123, '456', 789.0],\n",
       "   'foo_list2': [123, '456'],\n",
       "   'foo_none': None,\n",
       "   'foo_parse1': ['a', 'b', 'c'],\n",
       "   'foo_parse2': 123,\n",
       "   'foo_parse3': 42,\n",
       "   'foo_parse4': 8,\n",
       "   'foo_ref1': 'string_value',\n",
       "   'foo_ref2': 'string_value',\n",
       "   'foo_str': 'string_value',\n",
       "   'foo_sweep1': 3,\n",
       "   'foo_sweep2': 3},\n",
       "  'app2': {'app3': {'foo_int1': 123}, 'foo_int2': 123, 'foo_str': 'app2_foo'},\n",
       "  'app3': {'foo_str': 'abc'},\n",
       "  'app5': 5},\n",
       " '225JEcKqq25rRqki': {'app1': {'app1_2': {'foo_str1_2': 'app2_foo'},\n",
       "   'app_glob': 'glob',\n",
       "   'app_glob1_2': 'glob1_2',\n",
       "   'app_glob2': 'glob2',\n",
       "   'foo_float': 1.23,\n",
       "   'foo_int': 123,\n",
       "   'foo_list1': [123, '456', 789.0],\n",
       "   'foo_list2': [123, '456'],\n",
       "   'foo_none': None,\n",
       "   'foo_parse1': ['a', 'b', 'c'],\n",
       "   'foo_parse2': 123,\n",
       "   'foo_parse3': 42,\n",
       "   'foo_parse4': 8,\n",
       "   'foo_ref1': 'string_value',\n",
       "   'foo_ref2': 'string_value',\n",
       "   'foo_str': 'string_value',\n",
       "   'foo_sweep1': 3,\n",
       "   'foo_sweep2': 3},\n",
       "  'app2': {'app3': {'foo_int1': 123}, 'foo_int2': 123, 'foo_str': 'app2_foo'},\n",
       "  'app3': {'foo_str': 'abc'},\n",
       "  'app5': 5,\n",
       "  'new_key': 'kmasdkasm',\n",
       "  'new_key2': {'abc': 123}},\n",
       " 'TKAdUMdrL7eI59q7': {'app1': {'app1_2': {'foo_str1_2': 'app2_foo',\n",
       "    'foo_sweep1_2': 1.2345},\n",
       "   'app_glob': 'glob',\n",
       "   'app_glob1_2': 'glob1_2',\n",
       "   'app_glob2': 'glob2',\n",
       "   'foo_float': 1.23,\n",
       "   'foo_int': 123,\n",
       "   'foo_list1': [123, '456', 789.0],\n",
       "   'foo_list2': [123, '456'],\n",
       "   'foo_none': None,\n",
       "   'foo_parse1': ['a', 'b', 'c'],\n",
       "   'foo_parse2': 123,\n",
       "   'foo_parse3': 42,\n",
       "   'foo_parse4': 8,\n",
       "   'foo_ref1': 'string_value',\n",
       "   'foo_ref2': 'string_value',\n",
       "   'foo_str': 'string_value',\n",
       "   'foo_sweep1': 3,\n",
       "   'foo_sweep2': 3},\n",
       "  'app2': {'app3': {'foo_int1': 123},\n",
       "   'foo_int2': 123,\n",
       "   'foo_str': 'app2_foo',\n",
       "   'foo_sweep': 'hey'},\n",
       "  'app3': {'foo_str': 'abc'},\n",
       "  'app5': 5,\n",
       "  'new_key': 'kmasdkasm',\n",
       "  'new_key2': {'abc': 123}},\n",
       " 'dskWCMo7WvddEPFb': {'app1': {'app1_2': {'foo_str1_2': 'app2_foo'},\n",
       "   'app_glob': 'glob',\n",
       "   'app_glob1_2': 'glob1_2',\n",
       "   'app_glob2': 'glob2',\n",
       "   'foo_float': 1.23,\n",
       "   'foo_int': 123,\n",
       "   'foo_list1': '456',\n",
       "   'foo_list2': [123, '456'],\n",
       "   'foo_none': None,\n",
       "   'foo_parse1': ['a', 'b', 'c'],\n",
       "   'foo_parse2': 123,\n",
       "   'foo_parse3': 42,\n",
       "   'foo_parse4': 8,\n",
       "   'foo_ref1': 'string_value',\n",
       "   'foo_ref2': 'string_value',\n",
       "   'foo_str': 'string_value',\n",
       "   'foo_sweep1': 3,\n",
       "   'foo_sweep2': 3},\n",
       "  'app2': {'app3': {'foo_int1': 123}, 'foo_int2': 123, 'foo_str': 'modified'},\n",
       "  'app3': {'foo_str': 'abc'},\n",
       "  'app5': 5,\n",
       "  'new_key': 'kmasdkasm',\n",
       "  'new_key2': {'abc': 123}},\n",
       " 'IkyxAfP8V6OscFhp': {'app1': {'app1_2': {'foo_str1_2': 'app2_foo',\n",
       "    'foo_sweep1_2': 1.2345},\n",
       "   'app_glob': 'glob',\n",
       "   'app_glob2': 'glob2',\n",
       "   'foo_float': 1.23,\n",
       "   'foo_int': 123,\n",
       "   'foo_list1': [123, '456', 789.0],\n",
       "   'foo_list2': [123, '456'],\n",
       "   'foo_none': None,\n",
       "   'foo_parse1': ['a', 'b', 'c'],\n",
       "   'foo_parse2': 123,\n",
       "   'foo_parse3': 42,\n",
       "   'foo_parse4': 8,\n",
       "   'foo_ref1': 'string_value',\n",
       "   'foo_ref2': 'string_value',\n",
       "   'foo_str': 'string_value',\n",
       "   'foo_sweep1': 3,\n",
       "   'foo_sweep2': 3},\n",
       "  'app2': {'app3': {}, 'foo_sweep': 'hey'},\n",
       "  'app3': {'foo_str': 'abc'}},\n",
       " 'g5qHTodSCQHtt0FU': {'app1': {'app1_2': {'foo_str1_2': 'app2_foo',\n",
       "    'foo_sweep1_2': 1.2345},\n",
       "   'app_glob': 'glob',\n",
       "   'app_glob1_2': 'glob1_2',\n",
       "   'app_glob2': 'glob2',\n",
       "   'foo_float': 1.23,\n",
       "   'foo_int': 123,\n",
       "   'foo_list1': [123, '456', 789.0],\n",
       "   'foo_list2': [123, '456'],\n",
       "   'foo_none': None,\n",
       "   'foo_parse1': ['a', 'b', 'c'],\n",
       "   'foo_parse2': 123,\n",
       "   'foo_parse3': 42,\n",
       "   'foo_parse4': 8,\n",
       "   'foo_ref1': 'string_value',\n",
       "   'foo_ref2': 'string_value',\n",
       "   'foo_str': 'string_value',\n",
       "   'foo_sweep1': 3,\n",
       "   'foo_sweep2': 3},\n",
       "  'app2': {'app3': {'foo_int1': 123},\n",
       "   'foo_int2': 123,\n",
       "   'foo_parse': 'hey',\n",
       "   'foo_str': 'app2_foo'},\n",
       "  'app3': {'foo_str': 'abc'},\n",
       "  'app5': 5,\n",
       "  'new_key': 'kmasdkasm',\n",
       "  'new_key2': {'abc': 123}},\n",
       " 'WSaay94qYt3zWjyd': {'app1': {'app1_2': {'foo_str1_2': 'app2_foo',\n",
       "    'foo_sweep1_2': 1.2345},\n",
       "   'app_glob': 'glob',\n",
       "   'app_glob2': 'glob2',\n",
       "   'foo_float': 1.23,\n",
       "   'foo_int': 123,\n",
       "   'foo_list1': [123, '456', 789.0],\n",
       "   'foo_list2': [123, '456'],\n",
       "   'foo_none': None,\n",
       "   'foo_parse1': ['a', 'b', 'c'],\n",
       "   'foo_parse2': 123,\n",
       "   'foo_parse3': 42,\n",
       "   'foo_parse4': 8,\n",
       "   'foo_ref1': 'string_value',\n",
       "   'foo_ref2': 'string_value',\n",
       "   'foo_str': 'string_value',\n",
       "   'foo_sweep1': 3,\n",
       "   'foo_sweep2': 3},\n",
       "  'app2': {'app3': {}, 'foo_sweep': 'hey'},\n",
       "  'app3': {'foo_str': 'abc'},\n",
       "  'app5': 5},\n",
       " '7L8nzrEguJz9Yqiu': {'app1': {'app1_2': {'foo_str1_2': 'app2_foo',\n",
       "    'foo_sweep1_2': 1.2345},\n",
       "   'app_glob': 'glob',\n",
       "   'app_glob2': 'glob2',\n",
       "   'foo_float': 1.23,\n",
       "   'foo_int': 123,\n",
       "   'foo_list1': [123, '456', 789.0],\n",
       "   'foo_list2': [123, '456'],\n",
       "   'foo_none': None,\n",
       "   'foo_parse1': ['a', 'b', 'c'],\n",
       "   'foo_parse2': 123,\n",
       "   'foo_parse3': 42,\n",
       "   'foo_parse4': 8,\n",
       "   'foo_ref1': 'string_value',\n",
       "   'foo_ref2': 'string_value',\n",
       "   'foo_str': 'string_value',\n",
       "   'foo_sweep1': 3,\n",
       "   'foo_sweep2': 3},\n",
       "  'app2': {'app3': {}, 'foo_sweep': 'hey'},\n",
       "  'app3': {'foo_str': 'abc'},\n",
       "  'app5': 5,\n",
       "  'new_key': 'kmasdkasm',\n",
       "  'new_key2': {'abc': 123}},\n",
       " 'vezGDD4aC6VxobgV': {'app1': {'app1_2': {'foo_str1_2': 'app2_foo',\n",
       "    'foo_sweep1_2': 1.2345},\n",
       "   'app_glob': 'glob',\n",
       "   'app_glob1_2': 'glob1_2',\n",
       "   'app_glob2': 'glob2',\n",
       "   'foo_float': 1.23,\n",
       "   'foo_int': 123,\n",
       "   'foo_list1': [123, '456', 789.0],\n",
       "   'foo_list2': [123, '456'],\n",
       "   'foo_none': None,\n",
       "   'foo_parse1': ['a', 'b', 'c'],\n",
       "   'foo_parse2': 123,\n",
       "   'foo_parse3': 42,\n",
       "   'foo_parse4': 8,\n",
       "   'foo_ref1': 'string_value',\n",
       "   'foo_ref2': 'string_value',\n",
       "   'foo_str': 'string_value',\n",
       "   'foo_sweep1': 3,\n",
       "   'foo_sweep2': 3},\n",
       "  'app2': {'app3': {'foo_int1': 123},\n",
       "   'foo_int2': 123,\n",
       "   'foo_parse': 'hey',\n",
       "   'foo_str': 'app2_foo'},\n",
       "  'app3': {'foo_str': 'abc'},\n",
       "  'app5': 5},\n",
       " 'OpnLZ5fWLmR92hDw': {'app1': {'app1_2': {'foo_str1_2': 'app2_foo'},\n",
       "   'app_glob': 'glob',\n",
       "   'app_glob1_2': 'glob1_2',\n",
       "   'app_glob2': 'glob2',\n",
       "   'foo_float': 1.23,\n",
       "   'foo_int': 123,\n",
       "   'foo_list1': [123, '456', 789.0],\n",
       "   'foo_list2': [123, '456'],\n",
       "   'foo_none': None,\n",
       "   'foo_parse1': ['a', 'b', 'c'],\n",
       "   'foo_parse2': 123,\n",
       "   'foo_parse3': 42,\n",
       "   'foo_parse4': 8,\n",
       "   'foo_ref1': 'string_value',\n",
       "   'foo_ref2': 'string_value',\n",
       "   'foo_str': 'string_value',\n",
       "   'foo_sweep1': 3,\n",
       "   'foo_sweep2': 3},\n",
       "  'app2': {'app3': {'foo_int1': 123}, 'foo_int2': 123, 'foo_str': 'app2_foo'},\n",
       "  'app3': {'foo_str': 'abc'}},\n",
       " 'S91vZPdxWuToHpMl': {'app1': {'app1_2': {'foo_str1_2': 'app2_foo',\n",
       "    'foo_sweep1_2': 1.2345},\n",
       "   'app_glob': 'glob',\n",
       "   'app_glob1_2': 'glob1_2',\n",
       "   'app_glob2': 'glob2',\n",
       "   'foo_float': 1.23,\n",
       "   'foo_int': 123,\n",
       "   'foo_list1': 123,\n",
       "   'foo_list2': [123, '456'],\n",
       "   'foo_none': None,\n",
       "   'foo_parse1': ['a', 'b', 'c'],\n",
       "   'foo_parse2': 123,\n",
       "   'foo_parse3': 42,\n",
       "   'foo_parse4': 8,\n",
       "   'foo_ref1': 'string_value',\n",
       "   'foo_ref2': 'string_value',\n",
       "   'foo_str': 'string_value',\n",
       "   'foo_sweep1': 3,\n",
       "   'foo_sweep2': 3},\n",
       "  'app2': {'app3': {'foo_int1': 123},\n",
       "   'foo_int2': 123,\n",
       "   'foo_parse': 'hey',\n",
       "   'foo_str': 'modified'},\n",
       "  'app3': {'foo_str': 'abc'},\n",
       "  'app5': 5,\n",
       "  'new_key': 'kmasdkasm',\n",
       "  'new_key2': {'abc': 123}},\n",
       " 'TMlP0C8nMQyQ2AbD': {'app1': {'app1_2': {'foo_str1_2': 'app2_foo',\n",
       "    'foo_sweep1_2': 1.2345},\n",
       "   'app_glob': 'glob',\n",
       "   'app_glob1_2': 'glob1_2',\n",
       "   'app_glob2': 'glob2',\n",
       "   'foo_float': 1.23,\n",
       "   'foo_int': 123,\n",
       "   'foo_list1': 789.0,\n",
       "   'foo_list2': [123, '456'],\n",
       "   'foo_none': None,\n",
       "   'foo_parse1': ['a', 'b', 'c'],\n",
       "   'foo_parse2': 123,\n",
       "   'foo_parse3': 42,\n",
       "   'foo_parse4': 8,\n",
       "   'foo_ref1': 'string_value',\n",
       "   'foo_ref2': 'string_value',\n",
       "   'foo_str': 'string_value',\n",
       "   'foo_sweep1': 3,\n",
       "   'foo_sweep2': 3},\n",
       "  'app2': {'app3': {'foo_int1': 123},\n",
       "   'foo_int2': 123,\n",
       "   'foo_parse': 'hey',\n",
       "   'foo_str': 'modified'},\n",
       "  'app3': {'foo_str': 'abc'},\n",
       "  'app5': 5,\n",
       "  'new_key': 'kmasdkasm',\n",
       "  'new_key2': {'abc': 123}},\n",
       " 'E4xyQsJeanWmmDMS': {'app1': {'app1_2': {'foo_str1_2': 'app2_foo',\n",
       "    'foo_sweep1_2': 1.2345},\n",
       "   'app_glob': 'glob',\n",
       "   'app_glob1_2': 'glob1_2',\n",
       "   'app_glob2': 'glob2',\n",
       "   'foo_float': 1.23,\n",
       "   'foo_int': 123,\n",
       "   'foo_list1': [123, '456', 789.0],\n",
       "   'foo_list2': [123, '456'],\n",
       "   'foo_none': None,\n",
       "   'foo_parse1': ['a', 'b', 'c'],\n",
       "   'foo_parse2': 123,\n",
       "   'foo_parse3': 42,\n",
       "   'foo_parse4': 8,\n",
       "   'foo_ref1': 'string_value',\n",
       "   'foo_ref2': 'string_value',\n",
       "   'foo_str': 'string_value',\n",
       "   'foo_sweep1': 3,\n",
       "   'foo_sweep2': 3},\n",
       "  'app2': {'app3': {'foo_int1': 123},\n",
       "   'foo_int2': 123,\n",
       "   'foo_str': 'app2_foo',\n",
       "   'foo_sweep': 'hey'},\n",
       "  'app3': {'foo_str': 'abc'}},\n",
       " 'qVKIUd19JSg2L8te': {'app1': {'app1_2': {'foo_str1_2': 'app2_foo',\n",
       "    'foo_sweep1_2': 1.2345},\n",
       "   'app_glob': 'glob',\n",
       "   'app_glob1_2': 'glob1_2',\n",
       "   'app_glob2': 'glob2',\n",
       "   'foo_float': 1.23,\n",
       "   'foo_int': 123,\n",
       "   'foo_list1': [123, '456', 789.0],\n",
       "   'foo_list2': [123, '456'],\n",
       "   'foo_none': None,\n",
       "   'foo_parse1': ['a', 'b', 'c'],\n",
       "   'foo_parse2': 123,\n",
       "   'foo_parse3': 42,\n",
       "   'foo_parse4': 8,\n",
       "   'foo_ref1': 'string_value',\n",
       "   'foo_ref2': 'string_value',\n",
       "   'foo_str': 'string_value',\n",
       "   'foo_sweep1': 3,\n",
       "   'foo_sweep2': 3},\n",
       "  'app2': {'app3': {'foo_int1': 123},\n",
       "   'foo_int2': 123,\n",
       "   'foo_str': 'app2_foo',\n",
       "   'foo_sweep': 'hey'},\n",
       "  'app3': {'foo_str': 'abc'},\n",
       "  'app5': 5},\n",
       " 'rfPBESSf3IjOhzwu': {'app1': {'app1_2': {'foo_str1_2': 'app2_foo',\n",
       "    'foo_sweep1_2': 1.2345},\n",
       "   'app_glob': 'glob',\n",
       "   'app_glob1_2': 'glob1_2',\n",
       "   'app_glob2': 'glob2',\n",
       "   'foo_float': 1.23,\n",
       "   'foo_int': 123,\n",
       "   'foo_list1': '456',\n",
       "   'foo_list2': [123, '456'],\n",
       "   'foo_none': None,\n",
       "   'foo_parse1': ['a', 'b', 'c'],\n",
       "   'foo_parse2': 123,\n",
       "   'foo_parse3': 42,\n",
       "   'foo_parse4': 8,\n",
       "   'foo_ref1': 'string_value',\n",
       "   'foo_ref2': 'string_value',\n",
       "   'foo_str': 'string_value',\n",
       "   'foo_sweep1': 3,\n",
       "   'foo_sweep2': 3},\n",
       "  'app2': {'app3': {'foo_int1': 123},\n",
       "   'foo_int2': 123,\n",
       "   'foo_parse': 'hey',\n",
       "   'foo_str': 'modified'},\n",
       "  'app3': {'foo_str': 'abc'},\n",
       "  'app5': 5,\n",
       "  'new_key': 'kmasdkasm',\n",
       "  'new_key2': {'abc': 123}},\n",
       " 'mx0uqMAk3mnLfNNZ': {'app1': {'app1_2': {'foo_str1_2': 'app2_foo'},\n",
       "   'app_glob': 'glob',\n",
       "   'app_glob1_2': 'glob1_2',\n",
       "   'app_glob2': 'glob2',\n",
       "   'foo_float': 1.23,\n",
       "   'foo_int': 123,\n",
       "   'foo_list1': 789.0,\n",
       "   'foo_list2': [123, '456'],\n",
       "   'foo_none': None,\n",
       "   'foo_parse1': ['a', 'b', 'c'],\n",
       "   'foo_parse2': 123,\n",
       "   'foo_parse3': 42,\n",
       "   'foo_parse4': 8,\n",
       "   'foo_ref1': 'string_value',\n",
       "   'foo_ref2': 'string_value',\n",
       "   'foo_str': 'string_value',\n",
       "   'foo_sweep1': 3,\n",
       "   'foo_sweep2': 3},\n",
       "  'app2': {'app3': {'foo_int1': 123}, 'foo_int2': 123, 'foo_str': 'modified'},\n",
       "  'app3': {'foo_str': 'abc'},\n",
       "  'app5': 5,\n",
       "  'new_key': 'kmasdkasm',\n",
       "  'new_key2': {'abc': 123}},\n",
       " 'ubHGX0t0VVOSi61w': {'app1': {'app1_2': {'foo_str1_2': 'app2_foo'},\n",
       "   'app_glob': 'glob',\n",
       "   'app_glob1_2': 'glob1_2',\n",
       "   'app_glob2': 'glob2',\n",
       "   'foo_float': 1.23,\n",
       "   'foo_int': 123,\n",
       "   'foo_list1': 123,\n",
       "   'foo_list2': [123, '456'],\n",
       "   'foo_none': None,\n",
       "   'foo_parse1': ['a', 'b', 'c'],\n",
       "   'foo_parse2': 123,\n",
       "   'foo_parse3': 42,\n",
       "   'foo_parse4': 8,\n",
       "   'foo_ref1': 'string_value',\n",
       "   'foo_ref2': 'string_value',\n",
       "   'foo_str': 'string_value',\n",
       "   'foo_sweep1': 3,\n",
       "   'foo_sweep2': 3},\n",
       "  'app2': {'app3': {'foo_int1': 123}, 'foo_int2': 123, 'foo_str': 'modified'},\n",
       "  'app3': {'foo_str': 'abc'},\n",
       "  'app5': 5,\n",
       "  'new_key': 'kmasdkasm',\n",
       "  'new_key2': {'abc': 123}}}"
      ]
     },
     "execution_count": 43,
     "metadata": {},
     "output_type": "execute_result"
    }
   ],
   "source": [
    "all_exps = easy_exp.exp.get_experiments(**exp_cfg)\n",
    "all_exps"
   ]
  },
  {
   "cell_type": "code",
   "execution_count": 44,
   "metadata": {},
   "outputs": [
    {
     "data": {
      "text/plain": [
       "{'YJxs8YGQWr5XFb11': {'app1': {'app1_2': {'foo_str1_2': 'app2_foo',\n",
       "    'foo_sweep1_2': 1.2345},\n",
       "   'app_glob': 'glob',\n",
       "   'app_glob1_2': 'glob1_2',\n",
       "   'app_glob2': 'glob2',\n",
       "   'foo_float': 1.23,\n",
       "   'foo_int': 123,\n",
       "   'foo_list1': [123, '456', 789.0],\n",
       "   'foo_list2': [123, '456'],\n",
       "   'foo_none': None,\n",
       "   'foo_parse1': ['a', 'b', 'c'],\n",
       "   'foo_parse2': 123,\n",
       "   'foo_parse3': 42,\n",
       "   'foo_parse4': 8,\n",
       "   'foo_ref1': 'string_value',\n",
       "   'foo_ref2': 'string_value',\n",
       "   'foo_str': 'string_value',\n",
       "   'foo_sweep1': 3,\n",
       "   'foo_sweep2': 3},\n",
       "  'app2': {'app3': {'foo_int1': 123},\n",
       "   'foo_int2': 123,\n",
       "   'foo_parse': 'hey',\n",
       "   'foo_str': 'app2_foo'},\n",
       "  'app3': {'foo_str': 'abc'}},\n",
       " 'Pneg0BfgiVJqd698': {'app1': {'app1_2': {'foo_str1_2': 'app2_foo'},\n",
       "   'app_glob': 'glob',\n",
       "   'app_glob1_2': 'glob1_2',\n",
       "   'app_glob2': 'glob2',\n",
       "   'foo_float': 1.23,\n",
       "   'foo_int': 123,\n",
       "   'foo_list1': [123, '456', 789.0],\n",
       "   'foo_list2': [123, '456'],\n",
       "   'foo_none': None,\n",
       "   'foo_parse1': ['a', 'b', 'c'],\n",
       "   'foo_parse2': 123,\n",
       "   'foo_parse3': 42,\n",
       "   'foo_parse4': 8,\n",
       "   'foo_ref1': 'string_value',\n",
       "   'foo_ref2': 'string_value',\n",
       "   'foo_str': 'string_value',\n",
       "   'foo_sweep1': 3,\n",
       "   'foo_sweep2': 3},\n",
       "  'app2': {'app3': {'foo_int1': 123}, 'foo_int2': 123, 'foo_str': 'app2_foo'},\n",
       "  'app3': {'foo_str': 'abc'},\n",
       "  'app5': 5},\n",
       " '225JEcKqq25rRqki': {'app1': {'app1_2': {'foo_str1_2': 'app2_foo'},\n",
       "   'app_glob': 'glob',\n",
       "   'app_glob1_2': 'glob1_2',\n",
       "   'app_glob2': 'glob2',\n",
       "   'foo_float': 1.23,\n",
       "   'foo_int': 123,\n",
       "   'foo_list1': [123, '456', 789.0],\n",
       "   'foo_list2': [123, '456'],\n",
       "   'foo_none': None,\n",
       "   'foo_parse1': ['a', 'b', 'c'],\n",
       "   'foo_parse2': 123,\n",
       "   'foo_parse3': 42,\n",
       "   'foo_parse4': 8,\n",
       "   'foo_ref1': 'string_value',\n",
       "   'foo_ref2': 'string_value',\n",
       "   'foo_str': 'string_value',\n",
       "   'foo_sweep1': 3,\n",
       "   'foo_sweep2': 3},\n",
       "  'app2': {'app3': {'foo_int1': 123}, 'foo_int2': 123, 'foo_str': 'app2_foo'},\n",
       "  'app3': {'foo_str': 'abc'},\n",
       "  'app5': 5,\n",
       "  'new_key': 'kmasdkasm',\n",
       "  'new_key2': {'abc': 123}},\n",
       " 'TKAdUMdrL7eI59q7': {'app1': {'app1_2': {'foo_str1_2': 'app2_foo',\n",
       "    'foo_sweep1_2': 1.2345},\n",
       "   'app_glob': 'glob',\n",
       "   'app_glob1_2': 'glob1_2',\n",
       "   'app_glob2': 'glob2',\n",
       "   'foo_float': 1.23,\n",
       "   'foo_int': 123,\n",
       "   'foo_list1': [123, '456', 789.0],\n",
       "   'foo_list2': [123, '456'],\n",
       "   'foo_none': None,\n",
       "   'foo_parse1': ['a', 'b', 'c'],\n",
       "   'foo_parse2': 123,\n",
       "   'foo_parse3': 42,\n",
       "   'foo_parse4': 8,\n",
       "   'foo_ref1': 'string_value',\n",
       "   'foo_ref2': 'string_value',\n",
       "   'foo_str': 'string_value',\n",
       "   'foo_sweep1': 3,\n",
       "   'foo_sweep2': 3},\n",
       "  'app2': {'app3': {'foo_int1': 123},\n",
       "   'foo_int2': 123,\n",
       "   'foo_str': 'app2_foo',\n",
       "   'foo_sweep': 'hey'},\n",
       "  'app3': {'foo_str': 'abc'},\n",
       "  'app5': 5,\n",
       "  'new_key': 'kmasdkasm',\n",
       "  'new_key2': {'abc': 123}},\n",
       " 'dskWCMo7WvddEPFb': {'app1': {'app1_2': {'foo_str1_2': 'app2_foo'},\n",
       "   'app_glob': 'glob',\n",
       "   'app_glob1_2': 'glob1_2',\n",
       "   'app_glob2': 'glob2',\n",
       "   'foo_float': 1.23,\n",
       "   'foo_int': 123,\n",
       "   'foo_list1': '456',\n",
       "   'foo_list2': [123, '456'],\n",
       "   'foo_none': None,\n",
       "   'foo_parse1': ['a', 'b', 'c'],\n",
       "   'foo_parse2': 123,\n",
       "   'foo_parse3': 42,\n",
       "   'foo_parse4': 8,\n",
       "   'foo_ref1': 'string_value',\n",
       "   'foo_ref2': 'string_value',\n",
       "   'foo_str': 'string_value',\n",
       "   'foo_sweep1': 3,\n",
       "   'foo_sweep2': 3},\n",
       "  'app2': {'app3': {'foo_int1': 123}, 'foo_int2': 123, 'foo_str': 'modified'},\n",
       "  'app3': {'foo_str': 'abc'},\n",
       "  'app5': 5,\n",
       "  'new_key': 'kmasdkasm',\n",
       "  'new_key2': {'abc': 123}},\n",
       " 'IkyxAfP8V6OscFhp': {'app1': {'app1_2': {'foo_str1_2': 'app2_foo',\n",
       "    'foo_sweep1_2': 1.2345},\n",
       "   'app_glob': 'glob',\n",
       "   'app_glob2': 'glob2',\n",
       "   'foo_float': 1.23,\n",
       "   'foo_int': 123,\n",
       "   'foo_list1': [123, '456', 789.0],\n",
       "   'foo_list2': [123, '456'],\n",
       "   'foo_none': None,\n",
       "   'foo_parse1': ['a', 'b', 'c'],\n",
       "   'foo_parse2': 123,\n",
       "   'foo_parse3': 42,\n",
       "   'foo_parse4': 8,\n",
       "   'foo_ref1': 'string_value',\n",
       "   'foo_ref2': 'string_value',\n",
       "   'foo_str': 'string_value',\n",
       "   'foo_sweep1': 3,\n",
       "   'foo_sweep2': 3},\n",
       "  'app2': {'app3': {}, 'foo_sweep': 'hey'},\n",
       "  'app3': {'foo_str': 'abc'}},\n",
       " 'g5qHTodSCQHtt0FU': {'app1': {'app1_2': {'foo_str1_2': 'app2_foo',\n",
       "    'foo_sweep1_2': 1.2345},\n",
       "   'app_glob': 'glob',\n",
       "   'app_glob1_2': 'glob1_2',\n",
       "   'app_glob2': 'glob2',\n",
       "   'foo_float': 1.23,\n",
       "   'foo_int': 123,\n",
       "   'foo_list1': [123, '456', 789.0],\n",
       "   'foo_list2': [123, '456'],\n",
       "   'foo_none': None,\n",
       "   'foo_parse1': ['a', 'b', 'c'],\n",
       "   'foo_parse2': 123,\n",
       "   'foo_parse3': 42,\n",
       "   'foo_parse4': 8,\n",
       "   'foo_ref1': 'string_value',\n",
       "   'foo_ref2': 'string_value',\n",
       "   'foo_str': 'string_value',\n",
       "   'foo_sweep1': 3,\n",
       "   'foo_sweep2': 3},\n",
       "  'app2': {'app3': {'foo_int1': 123},\n",
       "   'foo_int2': 123,\n",
       "   'foo_parse': 'hey',\n",
       "   'foo_str': 'app2_foo'},\n",
       "  'app3': {'foo_str': 'abc'},\n",
       "  'app5': 5,\n",
       "  'new_key': 'kmasdkasm',\n",
       "  'new_key2': {'abc': 123}},\n",
       " 'WSaay94qYt3zWjyd': {'app1': {'app1_2': {'foo_str1_2': 'app2_foo',\n",
       "    'foo_sweep1_2': 1.2345},\n",
       "   'app_glob': 'glob',\n",
       "   'app_glob2': 'glob2',\n",
       "   'foo_float': 1.23,\n",
       "   'foo_int': 123,\n",
       "   'foo_list1': [123, '456', 789.0],\n",
       "   'foo_list2': [123, '456'],\n",
       "   'foo_none': None,\n",
       "   'foo_parse1': ['a', 'b', 'c'],\n",
       "   'foo_parse2': 123,\n",
       "   'foo_parse3': 42,\n",
       "   'foo_parse4': 8,\n",
       "   'foo_ref1': 'string_value',\n",
       "   'foo_ref2': 'string_value',\n",
       "   'foo_str': 'string_value',\n",
       "   'foo_sweep1': 3,\n",
       "   'foo_sweep2': 3},\n",
       "  'app2': {'app3': {}, 'foo_sweep': 'hey'},\n",
       "  'app3': {'foo_str': 'abc'},\n",
       "  'app5': 5},\n",
       " '7L8nzrEguJz9Yqiu': {'app1': {'app1_2': {'foo_str1_2': 'app2_foo',\n",
       "    'foo_sweep1_2': 1.2345},\n",
       "   'app_glob': 'glob',\n",
       "   'app_glob2': 'glob2',\n",
       "   'foo_float': 1.23,\n",
       "   'foo_int': 123,\n",
       "   'foo_list1': [123, '456', 789.0],\n",
       "   'foo_list2': [123, '456'],\n",
       "   'foo_none': None,\n",
       "   'foo_parse1': ['a', 'b', 'c'],\n",
       "   'foo_parse2': 123,\n",
       "   'foo_parse3': 42,\n",
       "   'foo_parse4': 8,\n",
       "   'foo_ref1': 'string_value',\n",
       "   'foo_ref2': 'string_value',\n",
       "   'foo_str': 'string_value',\n",
       "   'foo_sweep1': 3,\n",
       "   'foo_sweep2': 3},\n",
       "  'app2': {'app3': {}, 'foo_sweep': 'hey'},\n",
       "  'app3': {'foo_str': 'abc'},\n",
       "  'app5': 5,\n",
       "  'new_key': 'kmasdkasm',\n",
       "  'new_key2': {'abc': 123}},\n",
       " 'vezGDD4aC6VxobgV': {'app1': {'app1_2': {'foo_str1_2': 'app2_foo',\n",
       "    'foo_sweep1_2': 1.2345},\n",
       "   'app_glob': 'glob',\n",
       "   'app_glob1_2': 'glob1_2',\n",
       "   'app_glob2': 'glob2',\n",
       "   'foo_float': 1.23,\n",
       "   'foo_int': 123,\n",
       "   'foo_list1': [123, '456', 789.0],\n",
       "   'foo_list2': [123, '456'],\n",
       "   'foo_none': None,\n",
       "   'foo_parse1': ['a', 'b', 'c'],\n",
       "   'foo_parse2': 123,\n",
       "   'foo_parse3': 42,\n",
       "   'foo_parse4': 8,\n",
       "   'foo_ref1': 'string_value',\n",
       "   'foo_ref2': 'string_value',\n",
       "   'foo_str': 'string_value',\n",
       "   'foo_sweep1': 3,\n",
       "   'foo_sweep2': 3},\n",
       "  'app2': {'app3': {'foo_int1': 123},\n",
       "   'foo_int2': 123,\n",
       "   'foo_parse': 'hey',\n",
       "   'foo_str': 'app2_foo'},\n",
       "  'app3': {'foo_str': 'abc'},\n",
       "  'app5': 5},\n",
       " 'OpnLZ5fWLmR92hDw': {'app1': {'app1_2': {'foo_str1_2': 'app2_foo'},\n",
       "   'app_glob': 'glob',\n",
       "   'app_glob1_2': 'glob1_2',\n",
       "   'app_glob2': 'glob2',\n",
       "   'foo_float': 1.23,\n",
       "   'foo_int': 123,\n",
       "   'foo_list1': [123, '456', 789.0],\n",
       "   'foo_list2': [123, '456'],\n",
       "   'foo_none': None,\n",
       "   'foo_parse1': ['a', 'b', 'c'],\n",
       "   'foo_parse2': 123,\n",
       "   'foo_parse3': 42,\n",
       "   'foo_parse4': 8,\n",
       "   'foo_ref1': 'string_value',\n",
       "   'foo_ref2': 'string_value',\n",
       "   'foo_str': 'string_value',\n",
       "   'foo_sweep1': 3,\n",
       "   'foo_sweep2': 3},\n",
       "  'app2': {'app3': {'foo_int1': 123}, 'foo_int2': 123, 'foo_str': 'app2_foo'},\n",
       "  'app3': {'foo_str': 'abc'}},\n",
       " 'S91vZPdxWuToHpMl': {'app1': {'app1_2': {'foo_str1_2': 'app2_foo',\n",
       "    'foo_sweep1_2': 1.2345},\n",
       "   'app_glob': 'glob',\n",
       "   'app_glob1_2': 'glob1_2',\n",
       "   'app_glob2': 'glob2',\n",
       "   'foo_float': 1.23,\n",
       "   'foo_int': 123,\n",
       "   'foo_list1': 123,\n",
       "   'foo_list2': [123, '456'],\n",
       "   'foo_none': None,\n",
       "   'foo_parse1': ['a', 'b', 'c'],\n",
       "   'foo_parse2': 123,\n",
       "   'foo_parse3': 42,\n",
       "   'foo_parse4': 8,\n",
       "   'foo_ref1': 'string_value',\n",
       "   'foo_ref2': 'string_value',\n",
       "   'foo_str': 'string_value',\n",
       "   'foo_sweep1': 3,\n",
       "   'foo_sweep2': 3},\n",
       "  'app2': {'app3': {'foo_int1': 123},\n",
       "   'foo_int2': 123,\n",
       "   'foo_parse': 'hey',\n",
       "   'foo_str': 'modified'},\n",
       "  'app3': {'foo_str': 'abc'},\n",
       "  'app5': 5,\n",
       "  'new_key': 'kmasdkasm',\n",
       "  'new_key2': {'abc': 123}},\n",
       " 'TMlP0C8nMQyQ2AbD': {'app1': {'app1_2': {'foo_str1_2': 'app2_foo',\n",
       "    'foo_sweep1_2': 1.2345},\n",
       "   'app_glob': 'glob',\n",
       "   'app_glob1_2': 'glob1_2',\n",
       "   'app_glob2': 'glob2',\n",
       "   'foo_float': 1.23,\n",
       "   'foo_int': 123,\n",
       "   'foo_list1': 789.0,\n",
       "   'foo_list2': [123, '456'],\n",
       "   'foo_none': None,\n",
       "   'foo_parse1': ['a', 'b', 'c'],\n",
       "   'foo_parse2': 123,\n",
       "   'foo_parse3': 42,\n",
       "   'foo_parse4': 8,\n",
       "   'foo_ref1': 'string_value',\n",
       "   'foo_ref2': 'string_value',\n",
       "   'foo_str': 'string_value',\n",
       "   'foo_sweep1': 3,\n",
       "   'foo_sweep2': 3},\n",
       "  'app2': {'app3': {'foo_int1': 123},\n",
       "   'foo_int2': 123,\n",
       "   'foo_parse': 'hey',\n",
       "   'foo_str': 'modified'},\n",
       "  'app3': {'foo_str': 'abc'},\n",
       "  'app5': 5,\n",
       "  'new_key': 'kmasdkasm',\n",
       "  'new_key2': {'abc': 123}},\n",
       " 'E4xyQsJeanWmmDMS': {'app1': {'app1_2': {'foo_str1_2': 'app2_foo',\n",
       "    'foo_sweep1_2': 1.2345},\n",
       "   'app_glob': 'glob',\n",
       "   'app_glob1_2': 'glob1_2',\n",
       "   'app_glob2': 'glob2',\n",
       "   'foo_float': 1.23,\n",
       "   'foo_int': 123,\n",
       "   'foo_list1': [123, '456', 789.0],\n",
       "   'foo_list2': [123, '456'],\n",
       "   'foo_none': None,\n",
       "   'foo_parse1': ['a', 'b', 'c'],\n",
       "   'foo_parse2': 123,\n",
       "   'foo_parse3': 42,\n",
       "   'foo_parse4': 8,\n",
       "   'foo_ref1': 'string_value',\n",
       "   'foo_ref2': 'string_value',\n",
       "   'foo_str': 'string_value',\n",
       "   'foo_sweep1': 3,\n",
       "   'foo_sweep2': 3},\n",
       "  'app2': {'app3': {'foo_int1': 123},\n",
       "   'foo_int2': 123,\n",
       "   'foo_str': 'app2_foo',\n",
       "   'foo_sweep': 'hey'},\n",
       "  'app3': {'foo_str': 'abc'}},\n",
       " 'qVKIUd19JSg2L8te': {'app1': {'app1_2': {'foo_str1_2': 'app2_foo',\n",
       "    'foo_sweep1_2': 1.2345},\n",
       "   'app_glob': 'glob',\n",
       "   'app_glob1_2': 'glob1_2',\n",
       "   'app_glob2': 'glob2',\n",
       "   'foo_float': 1.23,\n",
       "   'foo_int': 123,\n",
       "   'foo_list1': [123, '456', 789.0],\n",
       "   'foo_list2': [123, '456'],\n",
       "   'foo_none': None,\n",
       "   'foo_parse1': ['a', 'b', 'c'],\n",
       "   'foo_parse2': 123,\n",
       "   'foo_parse3': 42,\n",
       "   'foo_parse4': 8,\n",
       "   'foo_ref1': 'string_value',\n",
       "   'foo_ref2': 'string_value',\n",
       "   'foo_str': 'string_value',\n",
       "   'foo_sweep1': 3,\n",
       "   'foo_sweep2': 3},\n",
       "  'app2': {'app3': {'foo_int1': 123},\n",
       "   'foo_int2': 123,\n",
       "   'foo_str': 'app2_foo',\n",
       "   'foo_sweep': 'hey'},\n",
       "  'app3': {'foo_str': 'abc'},\n",
       "  'app5': 5},\n",
       " 'rfPBESSf3IjOhzwu': {'app1': {'app1_2': {'foo_str1_2': 'app2_foo',\n",
       "    'foo_sweep1_2': 1.2345},\n",
       "   'app_glob': 'glob',\n",
       "   'app_glob1_2': 'glob1_2',\n",
       "   'app_glob2': 'glob2',\n",
       "   'foo_float': 1.23,\n",
       "   'foo_int': 123,\n",
       "   'foo_list1': '456',\n",
       "   'foo_list2': [123, '456'],\n",
       "   'foo_none': None,\n",
       "   'foo_parse1': ['a', 'b', 'c'],\n",
       "   'foo_parse2': 123,\n",
       "   'foo_parse3': 42,\n",
       "   'foo_parse4': 8,\n",
       "   'foo_ref1': 'string_value',\n",
       "   'foo_ref2': 'string_value',\n",
       "   'foo_str': 'string_value',\n",
       "   'foo_sweep1': 3,\n",
       "   'foo_sweep2': 3},\n",
       "  'app2': {'app3': {'foo_int1': 123},\n",
       "   'foo_int2': 123,\n",
       "   'foo_parse': 'hey',\n",
       "   'foo_str': 'modified'},\n",
       "  'app3': {'foo_str': 'abc'},\n",
       "  'app5': 5,\n",
       "  'new_key': 'kmasdkasm',\n",
       "  'new_key2': {'abc': 123}},\n",
       " 'mx0uqMAk3mnLfNNZ': {'app1': {'app1_2': {'foo_str1_2': 'app2_foo'},\n",
       "   'app_glob': 'glob',\n",
       "   'app_glob1_2': 'glob1_2',\n",
       "   'app_glob2': 'glob2',\n",
       "   'foo_float': 1.23,\n",
       "   'foo_int': 123,\n",
       "   'foo_list1': 789.0,\n",
       "   'foo_list2': [123, '456'],\n",
       "   'foo_none': None,\n",
       "   'foo_parse1': ['a', 'b', 'c'],\n",
       "   'foo_parse2': 123,\n",
       "   'foo_parse3': 42,\n",
       "   'foo_parse4': 8,\n",
       "   'foo_ref1': 'string_value',\n",
       "   'foo_ref2': 'string_value',\n",
       "   'foo_str': 'string_value',\n",
       "   'foo_sweep1': 3,\n",
       "   'foo_sweep2': 3},\n",
       "  'app2': {'app3': {'foo_int1': 123}, 'foo_int2': 123, 'foo_str': 'modified'},\n",
       "  'app3': {'foo_str': 'abc'},\n",
       "  'app5': 5,\n",
       "  'new_key': 'kmasdkasm',\n",
       "  'new_key2': {'abc': 123}},\n",
       " 'ubHGX0t0VVOSi61w': {'app1': {'app1_2': {'foo_str1_2': 'app2_foo'},\n",
       "   'app_glob': 'glob',\n",
       "   'app_glob1_2': 'glob1_2',\n",
       "   'app_glob2': 'glob2',\n",
       "   'foo_float': 1.23,\n",
       "   'foo_int': 123,\n",
       "   'foo_list1': 123,\n",
       "   'foo_list2': [123, '456'],\n",
       "   'foo_none': None,\n",
       "   'foo_parse1': ['a', 'b', 'c'],\n",
       "   'foo_parse2': 123,\n",
       "   'foo_parse3': 42,\n",
       "   'foo_parse4': 8,\n",
       "   'foo_ref1': 'string_value',\n",
       "   'foo_ref2': 'string_value',\n",
       "   'foo_str': 'string_value',\n",
       "   'foo_sweep1': 3,\n",
       "   'foo_sweep2': 3},\n",
       "  'app2': {'app3': {'foo_int1': 123}, 'foo_int2': 123, 'foo_str': 'modified'},\n",
       "  'app3': {'foo_str': 'abc'},\n",
       "  'app5': 5,\n",
       "  'new_key': 'kmasdkasm',\n",
       "  'new_key2': {'abc': 123}}}"
      ]
     },
     "execution_count": 44,
     "metadata": {},
     "output_type": "execute_result"
    }
   ],
   "source": [
    "all_exps = easy_exp.exp.get_experiments(**exp_cfg, sub_cfg={\"abc\":123}) # If not setting check_type, nothing will be checked\n",
    "all_exps"
   ]
  },
  {
   "cell_type": "code",
   "execution_count": 45,
   "metadata": {},
   "outputs": [
    {
     "data": {
      "text/plain": [
       "{'225JEcKqq25rRqki': {'app1': {'app1_2': {'foo_str1_2': 'app2_foo'},\n",
       "   'app_glob': 'glob',\n",
       "   'app_glob1_2': 'glob1_2',\n",
       "   'app_glob2': 'glob2',\n",
       "   'foo_float': 1.23,\n",
       "   'foo_int': 123,\n",
       "   'foo_list1': [123, '456', 789.0],\n",
       "   'foo_list2': [123, '456'],\n",
       "   'foo_none': None,\n",
       "   'foo_parse1': ['a', 'b', 'c'],\n",
       "   'foo_parse2': 123,\n",
       "   'foo_parse3': 42,\n",
       "   'foo_parse4': 8,\n",
       "   'foo_ref1': 'string_value',\n",
       "   'foo_ref2': 'string_value',\n",
       "   'foo_str': 'string_value',\n",
       "   'foo_sweep1': 3,\n",
       "   'foo_sweep2': 3},\n",
       "  'app2': {'app3': {'foo_int1': 123}, 'foo_int2': 123, 'foo_str': 'app2_foo'},\n",
       "  'app3': {'foo_str': 'abc'},\n",
       "  'app5': 5,\n",
       "  'new_key': 'kmasdkasm',\n",
       "  'new_key2': {'abc': 123}},\n",
       " 'TKAdUMdrL7eI59q7': {'app1': {'app1_2': {'foo_str1_2': 'app2_foo',\n",
       "    'foo_sweep1_2': 1.2345},\n",
       "   'app_glob': 'glob',\n",
       "   'app_glob1_2': 'glob1_2',\n",
       "   'app_glob2': 'glob2',\n",
       "   'foo_float': 1.23,\n",
       "   'foo_int': 123,\n",
       "   'foo_list1': [123, '456', 789.0],\n",
       "   'foo_list2': [123, '456'],\n",
       "   'foo_none': None,\n",
       "   'foo_parse1': ['a', 'b', 'c'],\n",
       "   'foo_parse2': 123,\n",
       "   'foo_parse3': 42,\n",
       "   'foo_parse4': 8,\n",
       "   'foo_ref1': 'string_value',\n",
       "   'foo_ref2': 'string_value',\n",
       "   'foo_str': 'string_value',\n",
       "   'foo_sweep1': 3,\n",
       "   'foo_sweep2': 3},\n",
       "  'app2': {'app3': {'foo_int1': 123},\n",
       "   'foo_int2': 123,\n",
       "   'foo_str': 'app2_foo',\n",
       "   'foo_sweep': 'hey'},\n",
       "  'app3': {'foo_str': 'abc'},\n",
       "  'app5': 5,\n",
       "  'new_key': 'kmasdkasm',\n",
       "  'new_key2': {'abc': 123}},\n",
       " 'dskWCMo7WvddEPFb': {'app1': {'app1_2': {'foo_str1_2': 'app2_foo'},\n",
       "   'app_glob': 'glob',\n",
       "   'app_glob1_2': 'glob1_2',\n",
       "   'app_glob2': 'glob2',\n",
       "   'foo_float': 1.23,\n",
       "   'foo_int': 123,\n",
       "   'foo_list1': '456',\n",
       "   'foo_list2': [123, '456'],\n",
       "   'foo_none': None,\n",
       "   'foo_parse1': ['a', 'b', 'c'],\n",
       "   'foo_parse2': 123,\n",
       "   'foo_parse3': 42,\n",
       "   'foo_parse4': 8,\n",
       "   'foo_ref1': 'string_value',\n",
       "   'foo_ref2': 'string_value',\n",
       "   'foo_str': 'string_value',\n",
       "   'foo_sweep1': 3,\n",
       "   'foo_sweep2': 3},\n",
       "  'app2': {'app3': {'foo_int1': 123}, 'foo_int2': 123, 'foo_str': 'modified'},\n",
       "  'app3': {'foo_str': 'abc'},\n",
       "  'app5': 5,\n",
       "  'new_key': 'kmasdkasm',\n",
       "  'new_key2': {'abc': 123}},\n",
       " 'g5qHTodSCQHtt0FU': {'app1': {'app1_2': {'foo_str1_2': 'app2_foo',\n",
       "    'foo_sweep1_2': 1.2345},\n",
       "   'app_glob': 'glob',\n",
       "   'app_glob1_2': 'glob1_2',\n",
       "   'app_glob2': 'glob2',\n",
       "   'foo_float': 1.23,\n",
       "   'foo_int': 123,\n",
       "   'foo_list1': [123, '456', 789.0],\n",
       "   'foo_list2': [123, '456'],\n",
       "   'foo_none': None,\n",
       "   'foo_parse1': ['a', 'b', 'c'],\n",
       "   'foo_parse2': 123,\n",
       "   'foo_parse3': 42,\n",
       "   'foo_parse4': 8,\n",
       "   'foo_ref1': 'string_value',\n",
       "   'foo_ref2': 'string_value',\n",
       "   'foo_str': 'string_value',\n",
       "   'foo_sweep1': 3,\n",
       "   'foo_sweep2': 3},\n",
       "  'app2': {'app3': {'foo_int1': 123},\n",
       "   'foo_int2': 123,\n",
       "   'foo_parse': 'hey',\n",
       "   'foo_str': 'app2_foo'},\n",
       "  'app3': {'foo_str': 'abc'},\n",
       "  'app5': 5,\n",
       "  'new_key': 'kmasdkasm',\n",
       "  'new_key2': {'abc': 123}},\n",
       " '7L8nzrEguJz9Yqiu': {'app1': {'app1_2': {'foo_str1_2': 'app2_foo',\n",
       "    'foo_sweep1_2': 1.2345},\n",
       "   'app_glob': 'glob',\n",
       "   'app_glob2': 'glob2',\n",
       "   'foo_float': 1.23,\n",
       "   'foo_int': 123,\n",
       "   'foo_list1': [123, '456', 789.0],\n",
       "   'foo_list2': [123, '456'],\n",
       "   'foo_none': None,\n",
       "   'foo_parse1': ['a', 'b', 'c'],\n",
       "   'foo_parse2': 123,\n",
       "   'foo_parse3': 42,\n",
       "   'foo_parse4': 8,\n",
       "   'foo_ref1': 'string_value',\n",
       "   'foo_ref2': 'string_value',\n",
       "   'foo_str': 'string_value',\n",
       "   'foo_sweep1': 3,\n",
       "   'foo_sweep2': 3},\n",
       "  'app2': {'app3': {}, 'foo_sweep': 'hey'},\n",
       "  'app3': {'foo_str': 'abc'},\n",
       "  'app5': 5,\n",
       "  'new_key': 'kmasdkasm',\n",
       "  'new_key2': {'abc': 123}},\n",
       " 'S91vZPdxWuToHpMl': {'app1': {'app1_2': {'foo_str1_2': 'app2_foo',\n",
       "    'foo_sweep1_2': 1.2345},\n",
       "   'app_glob': 'glob',\n",
       "   'app_glob1_2': 'glob1_2',\n",
       "   'app_glob2': 'glob2',\n",
       "   'foo_float': 1.23,\n",
       "   'foo_int': 123,\n",
       "   'foo_list1': 123,\n",
       "   'foo_list2': [123, '456'],\n",
       "   'foo_none': None,\n",
       "   'foo_parse1': ['a', 'b', 'c'],\n",
       "   'foo_parse2': 123,\n",
       "   'foo_parse3': 42,\n",
       "   'foo_parse4': 8,\n",
       "   'foo_ref1': 'string_value',\n",
       "   'foo_ref2': 'string_value',\n",
       "   'foo_str': 'string_value',\n",
       "   'foo_sweep1': 3,\n",
       "   'foo_sweep2': 3},\n",
       "  'app2': {'app3': {'foo_int1': 123},\n",
       "   'foo_int2': 123,\n",
       "   'foo_parse': 'hey',\n",
       "   'foo_str': 'modified'},\n",
       "  'app3': {'foo_str': 'abc'},\n",
       "  'app5': 5,\n",
       "  'new_key': 'kmasdkasm',\n",
       "  'new_key2': {'abc': 123}},\n",
       " 'TMlP0C8nMQyQ2AbD': {'app1': {'app1_2': {'foo_str1_2': 'app2_foo',\n",
       "    'foo_sweep1_2': 1.2345},\n",
       "   'app_glob': 'glob',\n",
       "   'app_glob1_2': 'glob1_2',\n",
       "   'app_glob2': 'glob2',\n",
       "   'foo_float': 1.23,\n",
       "   'foo_int': 123,\n",
       "   'foo_list1': 789.0,\n",
       "   'foo_list2': [123, '456'],\n",
       "   'foo_none': None,\n",
       "   'foo_parse1': ['a', 'b', 'c'],\n",
       "   'foo_parse2': 123,\n",
       "   'foo_parse3': 42,\n",
       "   'foo_parse4': 8,\n",
       "   'foo_ref1': 'string_value',\n",
       "   'foo_ref2': 'string_value',\n",
       "   'foo_str': 'string_value',\n",
       "   'foo_sweep1': 3,\n",
       "   'foo_sweep2': 3},\n",
       "  'app2': {'app3': {'foo_int1': 123},\n",
       "   'foo_int2': 123,\n",
       "   'foo_parse': 'hey',\n",
       "   'foo_str': 'modified'},\n",
       "  'app3': {'foo_str': 'abc'},\n",
       "  'app5': 5,\n",
       "  'new_key': 'kmasdkasm',\n",
       "  'new_key2': {'abc': 123}},\n",
       " 'rfPBESSf3IjOhzwu': {'app1': {'app1_2': {'foo_str1_2': 'app2_foo',\n",
       "    'foo_sweep1_2': 1.2345},\n",
       "   'app_glob': 'glob',\n",
       "   'app_glob1_2': 'glob1_2',\n",
       "   'app_glob2': 'glob2',\n",
       "   'foo_float': 1.23,\n",
       "   'foo_int': 123,\n",
       "   'foo_list1': '456',\n",
       "   'foo_list2': [123, '456'],\n",
       "   'foo_none': None,\n",
       "   'foo_parse1': ['a', 'b', 'c'],\n",
       "   'foo_parse2': 123,\n",
       "   'foo_parse3': 42,\n",
       "   'foo_parse4': 8,\n",
       "   'foo_ref1': 'string_value',\n",
       "   'foo_ref2': 'string_value',\n",
       "   'foo_str': 'string_value',\n",
       "   'foo_sweep1': 3,\n",
       "   'foo_sweep2': 3},\n",
       "  'app2': {'app3': {'foo_int1': 123},\n",
       "   'foo_int2': 123,\n",
       "   'foo_parse': 'hey',\n",
       "   'foo_str': 'modified'},\n",
       "  'app3': {'foo_str': 'abc'},\n",
       "  'app5': 5,\n",
       "  'new_key': 'kmasdkasm',\n",
       "  'new_key2': {'abc': 123}},\n",
       " 'mx0uqMAk3mnLfNNZ': {'app1': {'app1_2': {'foo_str1_2': 'app2_foo'},\n",
       "   'app_glob': 'glob',\n",
       "   'app_glob1_2': 'glob1_2',\n",
       "   'app_glob2': 'glob2',\n",
       "   'foo_float': 1.23,\n",
       "   'foo_int': 123,\n",
       "   'foo_list1': 789.0,\n",
       "   'foo_list2': [123, '456'],\n",
       "   'foo_none': None,\n",
       "   'foo_parse1': ['a', 'b', 'c'],\n",
       "   'foo_parse2': 123,\n",
       "   'foo_parse3': 42,\n",
       "   'foo_parse4': 8,\n",
       "   'foo_ref1': 'string_value',\n",
       "   'foo_ref2': 'string_value',\n",
       "   'foo_str': 'string_value',\n",
       "   'foo_sweep1': 3,\n",
       "   'foo_sweep2': 3},\n",
       "  'app2': {'app3': {'foo_int1': 123}, 'foo_int2': 123, 'foo_str': 'modified'},\n",
       "  'app3': {'foo_str': 'abc'},\n",
       "  'app5': 5,\n",
       "  'new_key': 'kmasdkasm',\n",
       "  'new_key2': {'abc': 123}},\n",
       " 'ubHGX0t0VVOSi61w': {'app1': {'app1_2': {'foo_str1_2': 'app2_foo'},\n",
       "   'app_glob': 'glob',\n",
       "   'app_glob1_2': 'glob1_2',\n",
       "   'app_glob2': 'glob2',\n",
       "   'foo_float': 1.23,\n",
       "   'foo_int': 123,\n",
       "   'foo_list1': 123,\n",
       "   'foo_list2': [123, '456'],\n",
       "   'foo_none': None,\n",
       "   'foo_parse1': ['a', 'b', 'c'],\n",
       "   'foo_parse2': 123,\n",
       "   'foo_parse3': 42,\n",
       "   'foo_parse4': 8,\n",
       "   'foo_ref1': 'string_value',\n",
       "   'foo_ref2': 'string_value',\n",
       "   'foo_str': 'string_value',\n",
       "   'foo_sweep1': 3,\n",
       "   'foo_sweep2': 3},\n",
       "  'app2': {'app3': {'foo_int1': 123}, 'foo_int2': 123, 'foo_str': 'modified'},\n",
       "  'app3': {'foo_str': 'abc'},\n",
       "  'app5': 5,\n",
       "  'new_key': 'kmasdkasm',\n",
       "  'new_key2': {'abc': 123}}}"
      ]
     },
     "execution_count": 45,
     "metadata": {},
     "output_type": "execute_result"
    }
   ],
   "source": [
    "# With contain, sub_cfg must be a \"subset\" of the dict\n",
    "to_check = {'new_key': 'kmasdkasm','new_key2': {'abc': 123}}\n",
    "all_exps = easy_exp.exp.get_experiments(**exp_cfg, sub_cfg = to_check, check_type=\"contain\") # If not setting check_type, nothing will be checked\n",
    "all_exps"
   ]
  },
  {
   "cell_type": "code",
   "execution_count": 46,
   "metadata": {},
   "outputs": [
    {
     "data": {
      "text/plain": [
       "{'225JEcKqq25rRqki': {'app1': {'app1_2': {'foo_str1_2': 'app2_foo'},\n",
       "   'app_glob': 'glob',\n",
       "   'app_glob1_2': 'glob1_2',\n",
       "   'app_glob2': 'glob2',\n",
       "   'foo_float': 1.23,\n",
       "   'foo_int': 123,\n",
       "   'foo_list1': [123, '456', 789.0],\n",
       "   'foo_list2': [123, '456'],\n",
       "   'foo_none': None,\n",
       "   'foo_parse1': ['a', 'b', 'c'],\n",
       "   'foo_parse2': 123,\n",
       "   'foo_parse3': 42,\n",
       "   'foo_parse4': 8,\n",
       "   'foo_ref1': 'string_value',\n",
       "   'foo_ref2': 'string_value',\n",
       "   'foo_str': 'string_value',\n",
       "   'foo_sweep1': 3,\n",
       "   'foo_sweep2': 3},\n",
       "  'app2': {'app3': {'foo_int1': 123}, 'foo_int2': 123, 'foo_str': 'app2_foo'},\n",
       "  'app3': {'foo_str': 'abc'},\n",
       "  'app5': 5,\n",
       "  'new_key': 'kmasdkasm',\n",
       "  'new_key2': {'abc': 123}},\n",
       " 'TKAdUMdrL7eI59q7': {'app1': {'app1_2': {'foo_str1_2': 'app2_foo',\n",
       "    'foo_sweep1_2': 1.2345},\n",
       "   'app_glob': 'glob',\n",
       "   'app_glob1_2': 'glob1_2',\n",
       "   'app_glob2': 'glob2',\n",
       "   'foo_float': 1.23,\n",
       "   'foo_int': 123,\n",
       "   'foo_list1': [123, '456', 789.0],\n",
       "   'foo_list2': [123, '456'],\n",
       "   'foo_none': None,\n",
       "   'foo_parse1': ['a', 'b', 'c'],\n",
       "   'foo_parse2': 123,\n",
       "   'foo_parse3': 42,\n",
       "   'foo_parse4': 8,\n",
       "   'foo_ref1': 'string_value',\n",
       "   'foo_ref2': 'string_value',\n",
       "   'foo_str': 'string_value',\n",
       "   'foo_sweep1': 3,\n",
       "   'foo_sweep2': 3},\n",
       "  'app2': {'app3': {'foo_int1': 123},\n",
       "   'foo_int2': 123,\n",
       "   'foo_str': 'app2_foo',\n",
       "   'foo_sweep': 'hey'},\n",
       "  'app3': {'foo_str': 'abc'},\n",
       "  'app5': 5,\n",
       "  'new_key': 'kmasdkasm',\n",
       "  'new_key2': {'abc': 123}},\n",
       " 'dskWCMo7WvddEPFb': {'app1': {'app1_2': {'foo_str1_2': 'app2_foo'},\n",
       "   'app_glob': 'glob',\n",
       "   'app_glob1_2': 'glob1_2',\n",
       "   'app_glob2': 'glob2',\n",
       "   'foo_float': 1.23,\n",
       "   'foo_int': 123,\n",
       "   'foo_list1': '456',\n",
       "   'foo_list2': [123, '456'],\n",
       "   'foo_none': None,\n",
       "   'foo_parse1': ['a', 'b', 'c'],\n",
       "   'foo_parse2': 123,\n",
       "   'foo_parse3': 42,\n",
       "   'foo_parse4': 8,\n",
       "   'foo_ref1': 'string_value',\n",
       "   'foo_ref2': 'string_value',\n",
       "   'foo_str': 'string_value',\n",
       "   'foo_sweep1': 3,\n",
       "   'foo_sweep2': 3},\n",
       "  'app2': {'app3': {'foo_int1': 123}, 'foo_int2': 123, 'foo_str': 'modified'},\n",
       "  'app3': {'foo_str': 'abc'},\n",
       "  'app5': 5,\n",
       "  'new_key': 'kmasdkasm',\n",
       "  'new_key2': {'abc': 123}},\n",
       " 'g5qHTodSCQHtt0FU': {'app1': {'app1_2': {'foo_str1_2': 'app2_foo',\n",
       "    'foo_sweep1_2': 1.2345},\n",
       "   'app_glob': 'glob',\n",
       "   'app_glob1_2': 'glob1_2',\n",
       "   'app_glob2': 'glob2',\n",
       "   'foo_float': 1.23,\n",
       "   'foo_int': 123,\n",
       "   'foo_list1': [123, '456', 789.0],\n",
       "   'foo_list2': [123, '456'],\n",
       "   'foo_none': None,\n",
       "   'foo_parse1': ['a', 'b', 'c'],\n",
       "   'foo_parse2': 123,\n",
       "   'foo_parse3': 42,\n",
       "   'foo_parse4': 8,\n",
       "   'foo_ref1': 'string_value',\n",
       "   'foo_ref2': 'string_value',\n",
       "   'foo_str': 'string_value',\n",
       "   'foo_sweep1': 3,\n",
       "   'foo_sweep2': 3},\n",
       "  'app2': {'app3': {'foo_int1': 123},\n",
       "   'foo_int2': 123,\n",
       "   'foo_parse': 'hey',\n",
       "   'foo_str': 'app2_foo'},\n",
       "  'app3': {'foo_str': 'abc'},\n",
       "  'app5': 5,\n",
       "  'new_key': 'kmasdkasm',\n",
       "  'new_key2': {'abc': 123}},\n",
       " '7L8nzrEguJz9Yqiu': {'app1': {'app1_2': {'foo_str1_2': 'app2_foo',\n",
       "    'foo_sweep1_2': 1.2345},\n",
       "   'app_glob': 'glob',\n",
       "   'app_glob2': 'glob2',\n",
       "   'foo_float': 1.23,\n",
       "   'foo_int': 123,\n",
       "   'foo_list1': [123, '456', 789.0],\n",
       "   'foo_list2': [123, '456'],\n",
       "   'foo_none': None,\n",
       "   'foo_parse1': ['a', 'b', 'c'],\n",
       "   'foo_parse2': 123,\n",
       "   'foo_parse3': 42,\n",
       "   'foo_parse4': 8,\n",
       "   'foo_ref1': 'string_value',\n",
       "   'foo_ref2': 'string_value',\n",
       "   'foo_str': 'string_value',\n",
       "   'foo_sweep1': 3,\n",
       "   'foo_sweep2': 3},\n",
       "  'app2': {'app3': {}, 'foo_sweep': 'hey'},\n",
       "  'app3': {'foo_str': 'abc'},\n",
       "  'app5': 5,\n",
       "  'new_key': 'kmasdkasm',\n",
       "  'new_key2': {'abc': 123}},\n",
       " 'S91vZPdxWuToHpMl': {'app1': {'app1_2': {'foo_str1_2': 'app2_foo',\n",
       "    'foo_sweep1_2': 1.2345},\n",
       "   'app_glob': 'glob',\n",
       "   'app_glob1_2': 'glob1_2',\n",
       "   'app_glob2': 'glob2',\n",
       "   'foo_float': 1.23,\n",
       "   'foo_int': 123,\n",
       "   'foo_list1': 123,\n",
       "   'foo_list2': [123, '456'],\n",
       "   'foo_none': None,\n",
       "   'foo_parse1': ['a', 'b', 'c'],\n",
       "   'foo_parse2': 123,\n",
       "   'foo_parse3': 42,\n",
       "   'foo_parse4': 8,\n",
       "   'foo_ref1': 'string_value',\n",
       "   'foo_ref2': 'string_value',\n",
       "   'foo_str': 'string_value',\n",
       "   'foo_sweep1': 3,\n",
       "   'foo_sweep2': 3},\n",
       "  'app2': {'app3': {'foo_int1': 123},\n",
       "   'foo_int2': 123,\n",
       "   'foo_parse': 'hey',\n",
       "   'foo_str': 'modified'},\n",
       "  'app3': {'foo_str': 'abc'},\n",
       "  'app5': 5,\n",
       "  'new_key': 'kmasdkasm',\n",
       "  'new_key2': {'abc': 123}},\n",
       " 'TMlP0C8nMQyQ2AbD': {'app1': {'app1_2': {'foo_str1_2': 'app2_foo',\n",
       "    'foo_sweep1_2': 1.2345},\n",
       "   'app_glob': 'glob',\n",
       "   'app_glob1_2': 'glob1_2',\n",
       "   'app_glob2': 'glob2',\n",
       "   'foo_float': 1.23,\n",
       "   'foo_int': 123,\n",
       "   'foo_list1': 789.0,\n",
       "   'foo_list2': [123, '456'],\n",
       "   'foo_none': None,\n",
       "   'foo_parse1': ['a', 'b', 'c'],\n",
       "   'foo_parse2': 123,\n",
       "   'foo_parse3': 42,\n",
       "   'foo_parse4': 8,\n",
       "   'foo_ref1': 'string_value',\n",
       "   'foo_ref2': 'string_value',\n",
       "   'foo_str': 'string_value',\n",
       "   'foo_sweep1': 3,\n",
       "   'foo_sweep2': 3},\n",
       "  'app2': {'app3': {'foo_int1': 123},\n",
       "   'foo_int2': 123,\n",
       "   'foo_parse': 'hey',\n",
       "   'foo_str': 'modified'},\n",
       "  'app3': {'foo_str': 'abc'},\n",
       "  'app5': 5,\n",
       "  'new_key': 'kmasdkasm',\n",
       "  'new_key2': {'abc': 123}},\n",
       " 'rfPBESSf3IjOhzwu': {'app1': {'app1_2': {'foo_str1_2': 'app2_foo',\n",
       "    'foo_sweep1_2': 1.2345},\n",
       "   'app_glob': 'glob',\n",
       "   'app_glob1_2': 'glob1_2',\n",
       "   'app_glob2': 'glob2',\n",
       "   'foo_float': 1.23,\n",
       "   'foo_int': 123,\n",
       "   'foo_list1': '456',\n",
       "   'foo_list2': [123, '456'],\n",
       "   'foo_none': None,\n",
       "   'foo_parse1': ['a', 'b', 'c'],\n",
       "   'foo_parse2': 123,\n",
       "   'foo_parse3': 42,\n",
       "   'foo_parse4': 8,\n",
       "   'foo_ref1': 'string_value',\n",
       "   'foo_ref2': 'string_value',\n",
       "   'foo_str': 'string_value',\n",
       "   'foo_sweep1': 3,\n",
       "   'foo_sweep2': 3},\n",
       "  'app2': {'app3': {'foo_int1': 123},\n",
       "   'foo_int2': 123,\n",
       "   'foo_parse': 'hey',\n",
       "   'foo_str': 'modified'},\n",
       "  'app3': {'foo_str': 'abc'},\n",
       "  'app5': 5,\n",
       "  'new_key': 'kmasdkasm',\n",
       "  'new_key2': {'abc': 123}},\n",
       " 'mx0uqMAk3mnLfNNZ': {'app1': {'app1_2': {'foo_str1_2': 'app2_foo'},\n",
       "   'app_glob': 'glob',\n",
       "   'app_glob1_2': 'glob1_2',\n",
       "   'app_glob2': 'glob2',\n",
       "   'foo_float': 1.23,\n",
       "   'foo_int': 123,\n",
       "   'foo_list1': 789.0,\n",
       "   'foo_list2': [123, '456'],\n",
       "   'foo_none': None,\n",
       "   'foo_parse1': ['a', 'b', 'c'],\n",
       "   'foo_parse2': 123,\n",
       "   'foo_parse3': 42,\n",
       "   'foo_parse4': 8,\n",
       "   'foo_ref1': 'string_value',\n",
       "   'foo_ref2': 'string_value',\n",
       "   'foo_str': 'string_value',\n",
       "   'foo_sweep1': 3,\n",
       "   'foo_sweep2': 3},\n",
       "  'app2': {'app3': {'foo_int1': 123}, 'foo_int2': 123, 'foo_str': 'modified'},\n",
       "  'app3': {'foo_str': 'abc'},\n",
       "  'app5': 5,\n",
       "  'new_key': 'kmasdkasm',\n",
       "  'new_key2': {'abc': 123}},\n",
       " 'ubHGX0t0VVOSi61w': {'app1': {'app1_2': {'foo_str1_2': 'app2_foo'},\n",
       "   'app_glob': 'glob',\n",
       "   'app_glob1_2': 'glob1_2',\n",
       "   'app_glob2': 'glob2',\n",
       "   'foo_float': 1.23,\n",
       "   'foo_int': 123,\n",
       "   'foo_list1': 123,\n",
       "   'foo_list2': [123, '456'],\n",
       "   'foo_none': None,\n",
       "   'foo_parse1': ['a', 'b', 'c'],\n",
       "   'foo_parse2': 123,\n",
       "   'foo_parse3': 42,\n",
       "   'foo_parse4': 8,\n",
       "   'foo_ref1': 'string_value',\n",
       "   'foo_ref2': 'string_value',\n",
       "   'foo_str': 'string_value',\n",
       "   'foo_sweep1': 3,\n",
       "   'foo_sweep2': 3},\n",
       "  'app2': {'app3': {'foo_int1': 123}, 'foo_int2': 123, 'foo_str': 'modified'},\n",
       "  'app3': {'foo_str': 'abc'},\n",
       "  'app5': 5,\n",
       "  'new_key': 'kmasdkasm',\n",
       "  'new_key2': {'abc': 123}}}"
      ]
     },
     "execution_count": 46,
     "metadata": {},
     "output_type": "execute_result"
    }
   ],
   "source": [
    "#with match, sub_cfg must use relative keys\n",
    "to_check = {'new_key2.abc': 123}\n",
    "all_exps = easy_exp.exp.get_experiments(**exp_cfg, sub_cfg = to_check, check_type=\"match\")\n",
    "all_exps"
   ]
  },
  {
   "attachments": {},
   "cell_type": "markdown",
   "metadata": {},
   "source": [
    "### Sweep parameter"
   ]
  },
  {
   "cell_type": "code",
   "execution_count": 47,
   "metadata": {},
   "outputs": [
    {
     "name": "stdout",
     "output_type": "stream",
     "text": [
      "[123, '456', 789.0]\n"
     ]
    },
    {
     "ename": "KeyError",
     "evalue": "'__sweep__'",
     "output_type": "error",
     "traceback": [
      "\u001b[0;31m---------------------------------------------------------------------------\u001b[0m",
      "\u001b[0;31mKeyError\u001b[0m                                  Traceback (most recent call last)",
      "Cell \u001b[0;32mIn [47], line 7\u001b[0m\n\u001b[1;32m      1\u001b[0m \u001b[38;5;66;03m#If one parameter is an iterable of parameters to sweep, then use sweep. It will:\u001b[39;00m\n\u001b[1;32m      2\u001b[0m \u001b[38;5;66;03m#1) cycle on every value in the\u001b[39;00m\n\u001b[1;32m      3\u001b[0m \u001b[38;5;66;03m#2) set the value to the key\u001b[39;00m\n\u001b[1;32m      4\u001b[0m \u001b[38;5;66;03m#3) return the value\u001b[39;00m\n\u001b[1;32m      5\u001b[0m \u001b[38;5;66;03m#4) At the end of the cycle, restore the iterable as value to the key\u001b[39;00m\n\u001b[1;32m      6\u001b[0m \u001b[38;5;28mprint\u001b[39m(cfg[\u001b[38;5;124m'\u001b[39m\u001b[38;5;124mapp1.foo_list1\u001b[39m\u001b[38;5;124m'\u001b[39m])\n\u001b[0;32m----> 7\u001b[0m \u001b[38;5;28;01mfor\u001b[39;00m param_value \u001b[38;5;129;01min\u001b[39;00m cfg\u001b[38;5;241m.\u001b[39msweep(\u001b[38;5;124m'\u001b[39m\u001b[38;5;124mapp1.foo_list1\u001b[39m\u001b[38;5;124m'\u001b[39m):\n\u001b[1;32m      8\u001b[0m     \u001b[38;5;28mprint\u001b[39m(param_value,\u001b[38;5;124m\"\u001b[39m\u001b[38;5;124m___\u001b[39m\u001b[38;5;124m\"\u001b[39m,cfg[\u001b[38;5;124m'\u001b[39m\u001b[38;5;124mapp1.foo_list1\u001b[39m\u001b[38;5;124m'\u001b[39m])\n\u001b[1;32m      9\u001b[0m     easy_exp\u001b[38;5;241m.\u001b[39mexp\u001b[38;5;241m.\u001b[39mget_set_experiment_id(cfg,exp_cfg),easy_exp\u001b[38;5;241m.\u001b[39mexp\u001b[38;5;241m.\u001b[39msave_experiment(cfg,exp_cfg)\n",
      "File \u001b[0;32m~/Desktop/Py_utils/easy_lightning_development/easy_exp/ntb/../easy_exp/cfg.py:976\u001b[0m, in \u001b[0;36mConfigObject.sweep\u001b[0;34m(self, relative_key)\u001b[0m\n\u001b[1;32m    958\u001b[0m \u001b[38;5;28;01mdef\u001b[39;00m \u001b[38;5;21msweep\u001b[39m(\u001b[38;5;28mself\u001b[39m, relative_key):\n\u001b[1;32m    959\u001b[0m     \u001b[38;5;124;03m\"\"\"\u001b[39;00m\n\u001b[1;32m    960\u001b[0m \u001b[38;5;124;03m    Iterate through and yield values of a list-like key in the configuration.\u001b[39;00m\n\u001b[1;32m    961\u001b[0m \n\u001b[0;32m   (...)\u001b[0m\n\u001b[1;32m    974\u001b[0m \u001b[38;5;124;03m    To avoid this, use itertools.zip_longest instead of zip.\u001b[39;00m\n\u001b[1;32m    975\u001b[0m \u001b[38;5;124;03m    \"\"\"\u001b[39;00m\n\u001b[0;32m--> 976\u001b[0m     sweep_dict \u001b[38;5;241m=\u001b[39m \u001b[38;5;28;43mself\u001b[39;49m\u001b[43m[\u001b[49m\u001b[38;5;124;43m\"\u001b[39;49m\u001b[38;5;124;43m__exp__\u001b[39;49m\u001b[38;5;124;43m\"\u001b[39;49m\u001b[43m]\u001b[49m\u001b[43m[\u001b[49m\u001b[38;5;124;43m\"\u001b[39;49m\u001b[38;5;124;43m__sweep__\u001b[39;49m\u001b[38;5;124;43m\"\u001b[39;49m\u001b[43m]\u001b[49m[\u001b[38;5;124m\"\u001b[39m\u001b[38;5;124mparameters\u001b[39m\u001b[38;5;124m\"\u001b[39m]\n\u001b[1;32m    977\u001b[0m     \u001b[38;5;28;01mif\u001b[39;00m relative_key \u001b[38;5;129;01min\u001b[39;00m sweep_dict:\n\u001b[1;32m    978\u001b[0m         sweep_values \u001b[38;5;241m=\u001b[39m sweep_dict[relative_key][\u001b[38;5;124m\"\u001b[39m\u001b[38;5;124mvalues\u001b[39m\u001b[38;5;124m\"\u001b[39m] \u001b[38;5;66;03m#TODO: more complex method if sweep is based on distribution\u001b[39;00m\n",
      "\u001b[0;31mKeyError\u001b[0m: '__sweep__'"
     ]
    }
   ],
   "source": [
    "#If one parameter is an iterable of parameters to sweep, then use sweep. It will:\n",
    "#1) cycle on every value in the\n",
    "#2) set the value to the key\n",
    "#3) return the value\n",
    "#4) At the end of the cycle, restore the iterable as value to the key\n",
    "print(cfg['app1.foo_list1'])\n",
    "for param_value in cfg.sweep('app1.foo_list1'):\n",
    "    print(param_value,\"___\",cfg['app1.foo_list1'])\n",
    "    easy_exp.exp.get_set_experiment_id(cfg,exp_cfg),easy_exp.exp.save_experiment(cfg,exp_cfg)\n",
    "print(cfg['app1.foo_list1'])"
   ]
  },
  {
   "attachments": {},
   "cell_type": "markdown",
   "metadata": {},
   "source": [
    "## Sweep additions"
   ]
  },
  {
   "cell_type": "code",
   "execution_count": null,
   "metadata": {},
   "outputs": [],
   "source": [
    "cfg = easy_exp.cfg.load_configuration(\"config2\")"
   ]
  },
  {
   "cell_type": "code",
   "execution_count": null,
   "metadata": {},
   "outputs": [],
   "source": [
    "cfg"
   ]
  },
  {
   "cell_type": "code",
   "execution_count": null,
   "metadata": {},
   "outputs": [],
   "source": [
    "for value1 in cfg.sweep_additions(\"app2\"):\n",
    "    for value2 in cfg.sweep_additions(\"app1\"):\n",
    "        print(value2)\n",
    "        print(cfg)\n",
    "        print()"
   ]
  },
  {
   "cell_type": "code",
   "execution_count": null,
   "metadata": {},
   "outputs": [],
   "source": [
    "cfg[\"app2\"]"
   ]
  },
  {
   "cell_type": "code",
   "execution_count": null,
   "metadata": {},
   "outputs": [],
   "source": [
    "cfg"
   ]
  },
  {
   "attachments": {},
   "cell_type": "markdown",
   "metadata": {},
   "source": [
    "# Yaml loading times"
   ]
  },
  {
   "cell_type": "code",
   "execution_count": null,
   "metadata": {},
   "outputs": [],
   "source": [
    "import yaml, os, time"
   ]
  },
  {
   "cell_type": "code",
   "execution_count": null,
   "metadata": {},
   "outputs": [],
   "source": [
    "for i in range(10):\n",
    "    with open(os.path.join(\"../out/exp\",str(i)+\".yaml\"), 'w') as f:\n",
    "        yaml.safe_dump(cfg[\"__exp__\"],f)"
   ]
  },
  {
   "cell_type": "code",
   "execution_count": null,
   "metadata": {},
   "outputs": [],
   "source": [
    "start_time = time.time()\n",
    "\n",
    "for cont in range(10001):\n",
    "    with open(os.path.join(\"../out/exp\",str(cont%10)+\".yaml\"), 'r') as f:\n",
    "       cfg2 = yaml.safe_load(f)\n",
    "\n",
    "       app = cfg==cfg2\n",
    "\n",
    "    if cont in [1,10,100,1000,10000]:\n",
    "        end_time = time.time()\n",
    "        print(cont,\"Time/read:\",(end_time-start_time)/cont)\n",
    "        print(cont,\"Tot time:\",(end_time-start_time))\n",
    "        print()"
   ]
  },
  {
   "attachments": {},
   "cell_type": "markdown",
   "metadata": {},
   "source": [
    "## Argparse"
   ]
  },
  {
   "cell_type": "code",
   "execution_count": null,
   "metadata": {},
   "outputs": [],
   "source": [
    "import argparse, numpy as np"
   ]
  },
  {
   "cell_type": "code",
   "execution_count": null,
   "metadata": {},
   "outputs": [],
   "source": [
    "parser = argparse.ArgumentParser(\n",
    "                    prog = 'ProgramName',\n",
    "                    description = 'What the program does',\n",
    "                    epilog = 'Text at the bottom of help')"
   ]
  },
  {
   "cell_type": "code",
   "execution_count": null,
   "metadata": {},
   "outputs": [],
   "source": [
    "parser.add_argument(\n",
    "    \"--foo.foo\", #name or flags - Either a name or a list of option strings, e.g. foo or -f, --foo.\n",
    "    #optional arguments will be identified by the - prefix; remaining arguments will be assumed to be positional\n",
    "    # action - The basic type of action to be taken when this argument is encountered at the command line.\n",
    "# nargs - The number of command-line arguments that should be consumed.\n",
    "# const - A constant value required by some action and nargs selections.\n",
    "    default = [1,2,3], #np.ones((2,3))# default - The value produced if the argument is absent from the command line and if it is absent from the namespace object.\n",
    "# type - The type to which the command-line argument should be converted.\n",
    "# choices - A sequence of the allowable values for the argument.\n",
    "# required - Whether or not the command-line option may be omitted (optionals only).\n",
    "# help - A brief description of what the argument does.\n",
    "# metavar - A name for the argument in usage messages.\n",
    "# dest - The name of the attribute to be added to the object returned by parse_args().\n",
    "    )"
   ]
  },
  {
   "cell_type": "code",
   "execution_count": null,
   "metadata": {},
   "outputs": [],
   "source": [
    "args = parser.parse_args([\"--foo\",\"1\"])"
   ]
  },
  {
   "cell_type": "code",
   "execution_count": null,
   "metadata": {},
   "outputs": [],
   "source": [
    "eval(\"np.ones((1,2))\")"
   ]
  },
  {
   "cell_type": "markdown",
   "metadata": {},
   "source": [
    "### Sweep"
   ]
  },
  {
   "cell_type": "code",
   "execution_count": null,
   "metadata": {},
   "outputs": [],
   "source": [
    "cfg = easy_exp.cfg.load_configuration()"
   ]
  },
  {
   "cell_type": "code",
   "execution_count": null,
   "metadata": {},
   "outputs": [],
   "source": [
    "easy_exp.wandb.wandb_sweep(cfg, lambda x: print(x))"
   ]
  }
 ],
 "metadata": {
  "kernelspec": {
   "display_name": "Python 3",
   "language": "python",
   "name": "python3"
  },
  "language_info": {
   "codemirror_mode": {
    "name": "ipython",
    "version": 3
   },
   "file_extension": ".py",
   "mimetype": "text/x-python",
   "name": "python",
   "nbconvert_exporter": "python",
   "pygments_lexer": "ipython3",
   "version": "3.11.5"
  },
  "orig_nbformat": 4,
  "vscode": {
   "interpreter": {
    "hash": "31f2aee4e71d21fbe5cf8b01ff0e069b9275f58929596ceb00d14d90e3e16cd6"
   }
  }
 },
 "nbformat": 4,
 "nbformat_minor": 2
}
